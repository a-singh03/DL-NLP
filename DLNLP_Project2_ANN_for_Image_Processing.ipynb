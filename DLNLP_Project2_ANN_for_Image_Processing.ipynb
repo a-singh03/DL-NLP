{
  "nbformat": 4,
  "nbformat_minor": 0,
  "metadata": {
    "colab": {
      "provenance": [],
      "include_colab_link": true
    },
    "kernelspec": {
      "name": "python3",
      "display_name": "Python 3"
    },
    "language_info": {
      "name": "python"
    }
  },
  "cells": [
    {
      "cell_type": "markdown",
      "metadata": {
        "id": "view-in-github",
        "colab_type": "text"
      },
      "source": [
        "<a href=\"https://colab.research.google.com/github/a-singh03/DL-NLP/blob/main/DLNLP_Project2_ANN_for_Image_Processing.ipynb\" target=\"_parent\"><img src=\"https://colab.research.google.com/assets/colab-badge.svg\" alt=\"Open In Colab\"/></a>"
      ]
    },
    {
      "cell_type": "markdown",
      "source": [
        "**Deep Learning Project**"
      ],
      "metadata": {
        "id": "0tRtZWmDpIDl"
      }
    },
    {
      "cell_type": "markdown",
      "source": [
        "**Objective: To create a Neural Network using Sign Language data.**"
      ],
      "metadata": {
        "id": "KJ6R3nt_cbiN"
      }
    },
    {
      "cell_type": "markdown",
      "source": [
        "**Kaggle:** https://www.kaggle.com/datasets/datamunge/sign-language-mnist"
      ],
      "metadata": {
        "id": "09bjZVDacoFY"
      }
    },
    {
      "cell_type": "markdown",
      "source": [
        "**Importing required libraries**"
      ],
      "metadata": {
        "id": "2xbbgW38cuQ_"
      }
    },
    {
      "cell_type": "code",
      "execution_count": null,
      "metadata": {
        "id": "pEyNI30wf0e1"
      },
      "outputs": [],
      "source": [
        "import numpy as np\n",
        "import pandas as pd\n",
        "import seaborn as sns\n",
        "import matplotlib.pyplot as plt\n",
        "\n",
        "import warnings\n",
        "warnings.filterwarnings('ignore')"
      ]
    },
    {
      "cell_type": "code",
      "source": [
        "#Display multiple commands output from a cell\n",
        "from IPython.core.interactiveshell import InteractiveShell\n",
        "InteractiveShell.ast_node_interactivity = \"all\""
      ],
      "metadata": {
        "id": "AZ5u_KxzpIyD"
      },
      "execution_count": null,
      "outputs": []
    },
    {
      "cell_type": "code",
      "source": [
        "\n",
        "import pandas as pd\n",
        "from sklearn.preprocessing import StandardScaler\n",
        "\n",
        "# 1.1\n",
        "import tensorflow as tf\n",
        "\n",
        "# 1.2 Helper libraries\n",
        "import numpy as np\n",
        "import matplotlib.pyplot as plt\n",
        "\n",
        "import pandas as pd\n",
        "from tensorflow.keras.preprocessing.image import ImageDataGenerator\n",
        "from sklearn.model_selection import train_test_split\n",
        "from tensorflow.keras import Sequential\n",
        "from tensorflow.keras import layers\n",
        "from tensorflow.keras.callbacks import ReduceLROnPlateau\n",
        "from tensorflow.keras.utils import plot_model\n",
        "from IPython.display import Image\n",
        "from tensorflow.keras.callbacks import EarlyStopping"
      ],
      "metadata": {
        "id": "jWj1pvvtzpoC"
      },
      "execution_count": null,
      "outputs": []
    },
    {
      "cell_type": "markdown",
      "source": [
        "**Connecting with google drive and Reading the data**"
      ],
      "metadata": {
        "id": "PAWE5g0Nc069"
      }
    },
    {
      "cell_type": "code",
      "source": [
        "#Mount google drive\n",
        "from google.colab import drive\n",
        "drive.mount('/gdrive')"
      ],
      "metadata": {
        "colab": {
          "base_uri": "https://localhost:8080/"
        },
        "id": "6ozt-VGXJtd_",
        "outputId": "08d5a75a-f4cb-4898-8f96-b9744bd985ff"
      },
      "execution_count": null,
      "outputs": [
        {
          "output_type": "stream",
          "name": "stdout",
          "text": [
            "Drive already mounted at /gdrive; to attempt to forcibly remount, call drive.mount(\"/gdrive\", force_remount=True).\n"
          ]
        }
      ]
    },
    {
      "cell_type": "code",
      "source": [
        "data = pd.read_csv(\"/gdrive/MyDrive/Deep Learning/sign_mnist_train.csv\")"
      ],
      "metadata": {
        "id": "-o17Q0kIyoBh"
      },
      "execution_count": null,
      "outputs": []
    },
    {
      "cell_type": "code",
      "source": [
        "data.head()"
      ],
      "metadata": {
        "id": "i_RXgHOAKg8F",
        "colab": {
          "base_uri": "https://localhost:8080/",
          "height": 255
        },
        "outputId": "6b53b074-6d0b-4ae7-dcd9-e61c2daba074"
      },
      "execution_count": null,
      "outputs": [
        {
          "output_type": "execute_result",
          "data": {
            "text/plain": [
              "   label  pixel1  pixel2  pixel3  pixel4  pixel5  pixel6  pixel7  pixel8  \\\n",
              "0      3     107     118     127     134     139     143     146     150   \n",
              "1      6     155     157     156     156     156     157     156     158   \n",
              "2      2     187     188     188     187     187     186     187     188   \n",
              "3      2     211     211     212     212     211     210     211     210   \n",
              "4     13     164     167     170     172     176     179     180     184   \n",
              "\n",
              "   pixel9  ...  pixel775  pixel776  pixel777  pixel778  pixel779  pixel780  \\\n",
              "0     153  ...       207       207       207       207       206       206   \n",
              "1     158  ...        69       149       128        87        94       163   \n",
              "2     187  ...       202       201       200       199       198       199   \n",
              "3     210  ...       235       234       233       231       230       226   \n",
              "4     185  ...        92       105       105       108       133       163   \n",
              "\n",
              "   pixel781  pixel782  pixel783  pixel784  \n",
              "0       206       204       203       202  \n",
              "1       175       103       135       149  \n",
              "2       198       195       194       195  \n",
              "3       225       222       229       163  \n",
              "4       157       163       164       179  \n",
              "\n",
              "[5 rows x 785 columns]"
            ],
            "text/html": [
              "\n",
              "  <div id=\"df-2656eb3a-d85b-48dd-b9c9-65fb72833522\" class=\"colab-df-container\">\n",
              "    <div>\n",
              "<style scoped>\n",
              "    .dataframe tbody tr th:only-of-type {\n",
              "        vertical-align: middle;\n",
              "    }\n",
              "\n",
              "    .dataframe tbody tr th {\n",
              "        vertical-align: top;\n",
              "    }\n",
              "\n",
              "    .dataframe thead th {\n",
              "        text-align: right;\n",
              "    }\n",
              "</style>\n",
              "<table border=\"1\" class=\"dataframe\">\n",
              "  <thead>\n",
              "    <tr style=\"text-align: right;\">\n",
              "      <th></th>\n",
              "      <th>label</th>\n",
              "      <th>pixel1</th>\n",
              "      <th>pixel2</th>\n",
              "      <th>pixel3</th>\n",
              "      <th>pixel4</th>\n",
              "      <th>pixel5</th>\n",
              "      <th>pixel6</th>\n",
              "      <th>pixel7</th>\n",
              "      <th>pixel8</th>\n",
              "      <th>pixel9</th>\n",
              "      <th>...</th>\n",
              "      <th>pixel775</th>\n",
              "      <th>pixel776</th>\n",
              "      <th>pixel777</th>\n",
              "      <th>pixel778</th>\n",
              "      <th>pixel779</th>\n",
              "      <th>pixel780</th>\n",
              "      <th>pixel781</th>\n",
              "      <th>pixel782</th>\n",
              "      <th>pixel783</th>\n",
              "      <th>pixel784</th>\n",
              "    </tr>\n",
              "  </thead>\n",
              "  <tbody>\n",
              "    <tr>\n",
              "      <th>0</th>\n",
              "      <td>3</td>\n",
              "      <td>107</td>\n",
              "      <td>118</td>\n",
              "      <td>127</td>\n",
              "      <td>134</td>\n",
              "      <td>139</td>\n",
              "      <td>143</td>\n",
              "      <td>146</td>\n",
              "      <td>150</td>\n",
              "      <td>153</td>\n",
              "      <td>...</td>\n",
              "      <td>207</td>\n",
              "      <td>207</td>\n",
              "      <td>207</td>\n",
              "      <td>207</td>\n",
              "      <td>206</td>\n",
              "      <td>206</td>\n",
              "      <td>206</td>\n",
              "      <td>204</td>\n",
              "      <td>203</td>\n",
              "      <td>202</td>\n",
              "    </tr>\n",
              "    <tr>\n",
              "      <th>1</th>\n",
              "      <td>6</td>\n",
              "      <td>155</td>\n",
              "      <td>157</td>\n",
              "      <td>156</td>\n",
              "      <td>156</td>\n",
              "      <td>156</td>\n",
              "      <td>157</td>\n",
              "      <td>156</td>\n",
              "      <td>158</td>\n",
              "      <td>158</td>\n",
              "      <td>...</td>\n",
              "      <td>69</td>\n",
              "      <td>149</td>\n",
              "      <td>128</td>\n",
              "      <td>87</td>\n",
              "      <td>94</td>\n",
              "      <td>163</td>\n",
              "      <td>175</td>\n",
              "      <td>103</td>\n",
              "      <td>135</td>\n",
              "      <td>149</td>\n",
              "    </tr>\n",
              "    <tr>\n",
              "      <th>2</th>\n",
              "      <td>2</td>\n",
              "      <td>187</td>\n",
              "      <td>188</td>\n",
              "      <td>188</td>\n",
              "      <td>187</td>\n",
              "      <td>187</td>\n",
              "      <td>186</td>\n",
              "      <td>187</td>\n",
              "      <td>188</td>\n",
              "      <td>187</td>\n",
              "      <td>...</td>\n",
              "      <td>202</td>\n",
              "      <td>201</td>\n",
              "      <td>200</td>\n",
              "      <td>199</td>\n",
              "      <td>198</td>\n",
              "      <td>199</td>\n",
              "      <td>198</td>\n",
              "      <td>195</td>\n",
              "      <td>194</td>\n",
              "      <td>195</td>\n",
              "    </tr>\n",
              "    <tr>\n",
              "      <th>3</th>\n",
              "      <td>2</td>\n",
              "      <td>211</td>\n",
              "      <td>211</td>\n",
              "      <td>212</td>\n",
              "      <td>212</td>\n",
              "      <td>211</td>\n",
              "      <td>210</td>\n",
              "      <td>211</td>\n",
              "      <td>210</td>\n",
              "      <td>210</td>\n",
              "      <td>...</td>\n",
              "      <td>235</td>\n",
              "      <td>234</td>\n",
              "      <td>233</td>\n",
              "      <td>231</td>\n",
              "      <td>230</td>\n",
              "      <td>226</td>\n",
              "      <td>225</td>\n",
              "      <td>222</td>\n",
              "      <td>229</td>\n",
              "      <td>163</td>\n",
              "    </tr>\n",
              "    <tr>\n",
              "      <th>4</th>\n",
              "      <td>13</td>\n",
              "      <td>164</td>\n",
              "      <td>167</td>\n",
              "      <td>170</td>\n",
              "      <td>172</td>\n",
              "      <td>176</td>\n",
              "      <td>179</td>\n",
              "      <td>180</td>\n",
              "      <td>184</td>\n",
              "      <td>185</td>\n",
              "      <td>...</td>\n",
              "      <td>92</td>\n",
              "      <td>105</td>\n",
              "      <td>105</td>\n",
              "      <td>108</td>\n",
              "      <td>133</td>\n",
              "      <td>163</td>\n",
              "      <td>157</td>\n",
              "      <td>163</td>\n",
              "      <td>164</td>\n",
              "      <td>179</td>\n",
              "    </tr>\n",
              "  </tbody>\n",
              "</table>\n",
              "<p>5 rows × 785 columns</p>\n",
              "</div>\n",
              "    <div class=\"colab-df-buttons\">\n",
              "\n",
              "  <div class=\"colab-df-container\">\n",
              "    <button class=\"colab-df-convert\" onclick=\"convertToInteractive('df-2656eb3a-d85b-48dd-b9c9-65fb72833522')\"\n",
              "            title=\"Convert this dataframe to an interactive table.\"\n",
              "            style=\"display:none;\">\n",
              "\n",
              "  <svg xmlns=\"http://www.w3.org/2000/svg\" height=\"24px\" viewBox=\"0 -960 960 960\">\n",
              "    <path d=\"M120-120v-720h720v720H120Zm60-500h600v-160H180v160Zm220 220h160v-160H400v160Zm0 220h160v-160H400v160ZM180-400h160v-160H180v160Zm440 0h160v-160H620v160ZM180-180h160v-160H180v160Zm440 0h160v-160H620v160Z\"/>\n",
              "  </svg>\n",
              "    </button>\n",
              "\n",
              "  <style>\n",
              "    .colab-df-container {\n",
              "      display:flex;\n",
              "      gap: 12px;\n",
              "    }\n",
              "\n",
              "    .colab-df-convert {\n",
              "      background-color: #E8F0FE;\n",
              "      border: none;\n",
              "      border-radius: 50%;\n",
              "      cursor: pointer;\n",
              "      display: none;\n",
              "      fill: #1967D2;\n",
              "      height: 32px;\n",
              "      padding: 0 0 0 0;\n",
              "      width: 32px;\n",
              "    }\n",
              "\n",
              "    .colab-df-convert:hover {\n",
              "      background-color: #E2EBFA;\n",
              "      box-shadow: 0px 1px 2px rgba(60, 64, 67, 0.3), 0px 1px 3px 1px rgba(60, 64, 67, 0.15);\n",
              "      fill: #174EA6;\n",
              "    }\n",
              "\n",
              "    .colab-df-buttons div {\n",
              "      margin-bottom: 4px;\n",
              "    }\n",
              "\n",
              "    [theme=dark] .colab-df-convert {\n",
              "      background-color: #3B4455;\n",
              "      fill: #D2E3FC;\n",
              "    }\n",
              "\n",
              "    [theme=dark] .colab-df-convert:hover {\n",
              "      background-color: #434B5C;\n",
              "      box-shadow: 0px 1px 3px 1px rgba(0, 0, 0, 0.15);\n",
              "      filter: drop-shadow(0px 1px 2px rgba(0, 0, 0, 0.3));\n",
              "      fill: #FFFFFF;\n",
              "    }\n",
              "  </style>\n",
              "\n",
              "    <script>\n",
              "      const buttonEl =\n",
              "        document.querySelector('#df-2656eb3a-d85b-48dd-b9c9-65fb72833522 button.colab-df-convert');\n",
              "      buttonEl.style.display =\n",
              "        google.colab.kernel.accessAllowed ? 'block' : 'none';\n",
              "\n",
              "      async function convertToInteractive(key) {\n",
              "        const element = document.querySelector('#df-2656eb3a-d85b-48dd-b9c9-65fb72833522');\n",
              "        const dataTable =\n",
              "          await google.colab.kernel.invokeFunction('convertToInteractive',\n",
              "                                                    [key], {});\n",
              "        if (!dataTable) return;\n",
              "\n",
              "        const docLinkHtml = 'Like what you see? Visit the ' +\n",
              "          '<a target=\"_blank\" href=https://colab.research.google.com/notebooks/data_table.ipynb>data table notebook</a>'\n",
              "          + ' to learn more about interactive tables.';\n",
              "        element.innerHTML = '';\n",
              "        dataTable['output_type'] = 'display_data';\n",
              "        await google.colab.output.renderOutput(dataTable, element);\n",
              "        const docLink = document.createElement('div');\n",
              "        docLink.innerHTML = docLinkHtml;\n",
              "        element.appendChild(docLink);\n",
              "      }\n",
              "    </script>\n",
              "  </div>\n",
              "\n",
              "\n",
              "<div id=\"df-28f46c79-4427-4ad8-81df-4483b77df5dc\">\n",
              "  <button class=\"colab-df-quickchart\" onclick=\"quickchart('df-28f46c79-4427-4ad8-81df-4483b77df5dc')\"\n",
              "            title=\"Suggest charts.\"\n",
              "            style=\"display:none;\">\n",
              "\n",
              "<svg xmlns=\"http://www.w3.org/2000/svg\" height=\"24px\"viewBox=\"0 0 24 24\"\n",
              "     width=\"24px\">\n",
              "    <g>\n",
              "        <path d=\"M19 3H5c-1.1 0-2 .9-2 2v14c0 1.1.9 2 2 2h14c1.1 0 2-.9 2-2V5c0-1.1-.9-2-2-2zM9 17H7v-7h2v7zm4 0h-2V7h2v10zm4 0h-2v-4h2v4z\"/>\n",
              "    </g>\n",
              "</svg>\n",
              "  </button>\n",
              "\n",
              "<style>\n",
              "  .colab-df-quickchart {\n",
              "    background-color: #E8F0FE;\n",
              "    border: none;\n",
              "    border-radius: 50%;\n",
              "    cursor: pointer;\n",
              "    display: none;\n",
              "    fill: #1967D2;\n",
              "    height: 32px;\n",
              "    padding: 0 0 0 0;\n",
              "    width: 32px;\n",
              "  }\n",
              "\n",
              "  .colab-df-quickchart:hover {\n",
              "    background-color: #E2EBFA;\n",
              "    box-shadow: 0px 1px 2px rgba(60, 64, 67, 0.3), 0px 1px 3px 1px rgba(60, 64, 67, 0.15);\n",
              "    fill: #174EA6;\n",
              "  }\n",
              "\n",
              "  [theme=dark] .colab-df-quickchart {\n",
              "    background-color: #3B4455;\n",
              "    fill: #D2E3FC;\n",
              "  }\n",
              "\n",
              "  [theme=dark] .colab-df-quickchart:hover {\n",
              "    background-color: #434B5C;\n",
              "    box-shadow: 0px 1px 3px 1px rgba(0, 0, 0, 0.15);\n",
              "    filter: drop-shadow(0px 1px 2px rgba(0, 0, 0, 0.3));\n",
              "    fill: #FFFFFF;\n",
              "  }\n",
              "</style>\n",
              "\n",
              "  <script>\n",
              "    async function quickchart(key) {\n",
              "      const charts = await google.colab.kernel.invokeFunction(\n",
              "          'suggestCharts', [key], {});\n",
              "    }\n",
              "    (() => {\n",
              "      let quickchartButtonEl =\n",
              "        document.querySelector('#df-28f46c79-4427-4ad8-81df-4483b77df5dc button');\n",
              "      quickchartButtonEl.style.display =\n",
              "        google.colab.kernel.accessAllowed ? 'block' : 'none';\n",
              "    })();\n",
              "  </script>\n",
              "</div>\n",
              "    </div>\n",
              "  </div>\n"
            ]
          },
          "metadata": {},
          "execution_count": 39
        }
      ]
    },
    {
      "cell_type": "code",
      "source": [
        "pd.DataFrame({\n",
        "    'X': ['Data Shape','Different number of labels','Different number of labels (Sum)' ],\n",
        "    'Y': [data.shape, data.label.unique(), len(data.label.unique())],\n",
        "})"
      ],
      "metadata": {
        "id": "4kDFkiKgJh5q",
        "colab": {
          "base_uri": "https://localhost:8080/",
          "height": 143
        },
        "outputId": "36e740f0-6bec-43a5-d2c7-04d39c1b6fb3"
      },
      "execution_count": null,
      "outputs": [
        {
          "output_type": "execute_result",
          "data": {
            "text/plain": [
              "                                  X  \\\n",
              "0                        Data Shape   \n",
              "1        Different number of labels   \n",
              "2  Different number of labels (Sum)   \n",
              "\n",
              "                                                   Y  \n",
              "0                                       (27455, 785)  \n",
              "1  [3, 6, 2, 13, 16, 8, 22, 18, 10, 20, 17, 19, 2...  \n",
              "2                                                 24  "
            ],
            "text/html": [
              "\n",
              "  <div id=\"df-f6d8fdcc-7393-4056-b624-dbd4ec42b255\" class=\"colab-df-container\">\n",
              "    <div>\n",
              "<style scoped>\n",
              "    .dataframe tbody tr th:only-of-type {\n",
              "        vertical-align: middle;\n",
              "    }\n",
              "\n",
              "    .dataframe tbody tr th {\n",
              "        vertical-align: top;\n",
              "    }\n",
              "\n",
              "    .dataframe thead th {\n",
              "        text-align: right;\n",
              "    }\n",
              "</style>\n",
              "<table border=\"1\" class=\"dataframe\">\n",
              "  <thead>\n",
              "    <tr style=\"text-align: right;\">\n",
              "      <th></th>\n",
              "      <th>X</th>\n",
              "      <th>Y</th>\n",
              "    </tr>\n",
              "  </thead>\n",
              "  <tbody>\n",
              "    <tr>\n",
              "      <th>0</th>\n",
              "      <td>Data Shape</td>\n",
              "      <td>(27455, 785)</td>\n",
              "    </tr>\n",
              "    <tr>\n",
              "      <th>1</th>\n",
              "      <td>Different number of labels</td>\n",
              "      <td>[3, 6, 2, 13, 16, 8, 22, 18, 10, 20, 17, 19, 2...</td>\n",
              "    </tr>\n",
              "    <tr>\n",
              "      <th>2</th>\n",
              "      <td>Different number of labels (Sum)</td>\n",
              "      <td>24</td>\n",
              "    </tr>\n",
              "  </tbody>\n",
              "</table>\n",
              "</div>\n",
              "    <div class=\"colab-df-buttons\">\n",
              "\n",
              "  <div class=\"colab-df-container\">\n",
              "    <button class=\"colab-df-convert\" onclick=\"convertToInteractive('df-f6d8fdcc-7393-4056-b624-dbd4ec42b255')\"\n",
              "            title=\"Convert this dataframe to an interactive table.\"\n",
              "            style=\"display:none;\">\n",
              "\n",
              "  <svg xmlns=\"http://www.w3.org/2000/svg\" height=\"24px\" viewBox=\"0 -960 960 960\">\n",
              "    <path d=\"M120-120v-720h720v720H120Zm60-500h600v-160H180v160Zm220 220h160v-160H400v160Zm0 220h160v-160H400v160ZM180-400h160v-160H180v160Zm440 0h160v-160H620v160ZM180-180h160v-160H180v160Zm440 0h160v-160H620v160Z\"/>\n",
              "  </svg>\n",
              "    </button>\n",
              "\n",
              "  <style>\n",
              "    .colab-df-container {\n",
              "      display:flex;\n",
              "      gap: 12px;\n",
              "    }\n",
              "\n",
              "    .colab-df-convert {\n",
              "      background-color: #E8F0FE;\n",
              "      border: none;\n",
              "      border-radius: 50%;\n",
              "      cursor: pointer;\n",
              "      display: none;\n",
              "      fill: #1967D2;\n",
              "      height: 32px;\n",
              "      padding: 0 0 0 0;\n",
              "      width: 32px;\n",
              "    }\n",
              "\n",
              "    .colab-df-convert:hover {\n",
              "      background-color: #E2EBFA;\n",
              "      box-shadow: 0px 1px 2px rgba(60, 64, 67, 0.3), 0px 1px 3px 1px rgba(60, 64, 67, 0.15);\n",
              "      fill: #174EA6;\n",
              "    }\n",
              "\n",
              "    .colab-df-buttons div {\n",
              "      margin-bottom: 4px;\n",
              "    }\n",
              "\n",
              "    [theme=dark] .colab-df-convert {\n",
              "      background-color: #3B4455;\n",
              "      fill: #D2E3FC;\n",
              "    }\n",
              "\n",
              "    [theme=dark] .colab-df-convert:hover {\n",
              "      background-color: #434B5C;\n",
              "      box-shadow: 0px 1px 3px 1px rgba(0, 0, 0, 0.15);\n",
              "      filter: drop-shadow(0px 1px 2px rgba(0, 0, 0, 0.3));\n",
              "      fill: #FFFFFF;\n",
              "    }\n",
              "  </style>\n",
              "\n",
              "    <script>\n",
              "      const buttonEl =\n",
              "        document.querySelector('#df-f6d8fdcc-7393-4056-b624-dbd4ec42b255 button.colab-df-convert');\n",
              "      buttonEl.style.display =\n",
              "        google.colab.kernel.accessAllowed ? 'block' : 'none';\n",
              "\n",
              "      async function convertToInteractive(key) {\n",
              "        const element = document.querySelector('#df-f6d8fdcc-7393-4056-b624-dbd4ec42b255');\n",
              "        const dataTable =\n",
              "          await google.colab.kernel.invokeFunction('convertToInteractive',\n",
              "                                                    [key], {});\n",
              "        if (!dataTable) return;\n",
              "\n",
              "        const docLinkHtml = 'Like what you see? Visit the ' +\n",
              "          '<a target=\"_blank\" href=https://colab.research.google.com/notebooks/data_table.ipynb>data table notebook</a>'\n",
              "          + ' to learn more about interactive tables.';\n",
              "        element.innerHTML = '';\n",
              "        dataTable['output_type'] = 'display_data';\n",
              "        await google.colab.output.renderOutput(dataTable, element);\n",
              "        const docLink = document.createElement('div');\n",
              "        docLink.innerHTML = docLinkHtml;\n",
              "        element.appendChild(docLink);\n",
              "      }\n",
              "    </script>\n",
              "  </div>\n",
              "\n",
              "\n",
              "<div id=\"df-63b71d9b-9e72-40aa-9a6e-fa046113ec80\">\n",
              "  <button class=\"colab-df-quickchart\" onclick=\"quickchart('df-63b71d9b-9e72-40aa-9a6e-fa046113ec80')\"\n",
              "            title=\"Suggest charts.\"\n",
              "            style=\"display:none;\">\n",
              "\n",
              "<svg xmlns=\"http://www.w3.org/2000/svg\" height=\"24px\"viewBox=\"0 0 24 24\"\n",
              "     width=\"24px\">\n",
              "    <g>\n",
              "        <path d=\"M19 3H5c-1.1 0-2 .9-2 2v14c0 1.1.9 2 2 2h14c1.1 0 2-.9 2-2V5c0-1.1-.9-2-2-2zM9 17H7v-7h2v7zm4 0h-2V7h2v10zm4 0h-2v-4h2v4z\"/>\n",
              "    </g>\n",
              "</svg>\n",
              "  </button>\n",
              "\n",
              "<style>\n",
              "  .colab-df-quickchart {\n",
              "    background-color: #E8F0FE;\n",
              "    border: none;\n",
              "    border-radius: 50%;\n",
              "    cursor: pointer;\n",
              "    display: none;\n",
              "    fill: #1967D2;\n",
              "    height: 32px;\n",
              "    padding: 0 0 0 0;\n",
              "    width: 32px;\n",
              "  }\n",
              "\n",
              "  .colab-df-quickchart:hover {\n",
              "    background-color: #E2EBFA;\n",
              "    box-shadow: 0px 1px 2px rgba(60, 64, 67, 0.3), 0px 1px 3px 1px rgba(60, 64, 67, 0.15);\n",
              "    fill: #174EA6;\n",
              "  }\n",
              "\n",
              "  [theme=dark] .colab-df-quickchart {\n",
              "    background-color: #3B4455;\n",
              "    fill: #D2E3FC;\n",
              "  }\n",
              "\n",
              "  [theme=dark] .colab-df-quickchart:hover {\n",
              "    background-color: #434B5C;\n",
              "    box-shadow: 0px 1px 3px 1px rgba(0, 0, 0, 0.15);\n",
              "    filter: drop-shadow(0px 1px 2px rgba(0, 0, 0, 0.3));\n",
              "    fill: #FFFFFF;\n",
              "  }\n",
              "</style>\n",
              "\n",
              "  <script>\n",
              "    async function quickchart(key) {\n",
              "      const charts = await google.colab.kernel.invokeFunction(\n",
              "          'suggestCharts', [key], {});\n",
              "    }\n",
              "    (() => {\n",
              "      let quickchartButtonEl =\n",
              "        document.querySelector('#df-63b71d9b-9e72-40aa-9a6e-fa046113ec80 button');\n",
              "      quickchartButtonEl.style.display =\n",
              "        google.colab.kernel.accessAllowed ? 'block' : 'none';\n",
              "    })();\n",
              "  </script>\n",
              "</div>\n",
              "    </div>\n",
              "  </div>\n"
            ]
          },
          "metadata": {},
          "execution_count": 40
        }
      ]
    },
    {
      "cell_type": "markdown",
      "source": [
        "**Separating the target from the data**"
      ],
      "metadata": {
        "id": "10lGvpmAevSD"
      }
    },
    {
      "cell_type": "code",
      "source": [
        "y = data.pop('label')\n",
        "X = data.values"
      ],
      "metadata": {
        "id": "siY1a5J0yzzW"
      },
      "execution_count": null,
      "outputs": []
    },
    {
      "cell_type": "markdown",
      "source": [
        "**Plot for count of Label classes**"
      ],
      "metadata": {
        "id": "7yczpS3Oe75D"
      }
    },
    {
      "cell_type": "code",
      "source": [
        "# Create a count plot\n",
        "sns.set(style=\"darkgrid\")  # Set the style\n",
        "plt.figure(figsize=(8, 6))  # Set the figure size\n",
        "sns.countplot(x=y)  # Create the count plot using your data\n",
        "\n",
        "# Add labels and a title\n",
        "plt.xlabel('Label')\n",
        "plt.ylabel('Count')\n",
        "plt.title('Number of Digit Classes')\n",
        "\n",
        "# Show the plot\n",
        "plt.show();"
      ],
      "metadata": {
        "id": "Ui3n8AlkJt0Q",
        "colab": {
          "base_uri": "https://localhost:8080/",
          "height": 573
        },
        "outputId": "746f10cb-e463-47a3-dc31-4dfde542ed1e"
      },
      "execution_count": null,
      "outputs": [
        {
          "output_type": "display_data",
          "data": {
            "text/plain": [
              "<Figure size 800x600 with 1 Axes>"
            ],
            "image/png": "[encoded data removed]"
          },
          "metadata": {}
        }
      ]
    },
    {
      "cell_type": "markdown",
      "source": [
        "**Sign Images in the data**"
      ],
      "metadata": {
        "id": "gsGQV8hdfApj"
      }
    },
    {
      "cell_type": "code",
      "source": [
        "import matplotlib.pyplot as plt\n",
        "import numpy as np\n",
        "\n",
        "# Create a figure with subplots\n",
        "fig, ax = plt.subplots(2, 4)\n",
        "fig.set_size_inches(10, 4)\n",
        "\n",
        "for i in range(2):\n",
        "    for j in range(4):\n",
        "        k = i * 4 + j  # Calculate the index\n",
        "        img = X[k]  # Access the image from the NumPy array\n",
        "        img = img.reshape((28, 28))  # Reshape if necessary\n",
        "\n",
        "        ax[i, j].imshow(img, cmap='gray')  # Display the image\n",
        "        ax[i, j].set_xlabel(chr(y[k] + 65))  # Set the label, assuming y contains class labels\n",
        "\n",
        "plt.show();"
      ],
      "metadata": {
        "id": "ELBlW0CqJ0IZ",
        "colab": {
          "base_uri": "https://localhost:8080/",
          "height": 400
        },
        "outputId": "fcc2159b-5e82-4b99-ac8d-96cfa304c65b"
      },
      "execution_count": null,
      "outputs": [
        {
          "output_type": "display_data",
          "data": {
            "text/plain": [
              "<Figure size 1000x400 with 8 Axes>"
            ],
            "image/png": "[encoded data removed]"
          },
          "metadata": {}
        }
      ]
    },
    {
      "cell_type": "code",
      "source": [
        "from sklearn.model_selection import train_test_split"
      ],
      "metadata": {
        "id": "qcqCbh7PzUpu"
      },
      "execution_count": null,
      "outputs": []
    },
    {
      "cell_type": "code",
      "source": [
        "data.shape"
      ],
      "metadata": {
        "id": "ZXpEc-qOz3wp",
        "colab": {
          "base_uri": "https://localhost:8080/"
        },
        "outputId": "a71c353a-d2a2-42f6-e3c5-fdc8bf83916b"
      },
      "execution_count": null,
      "outputs": [
        {
          "output_type": "execute_result",
          "data": {
            "text/plain": [
              "(27455, 784)"
            ]
          },
          "metadata": {},
          "execution_count": 45
        }
      ]
    },
    {
      "cell_type": "code",
      "source": [
        "y.nunique()"
      ],
      "metadata": {
        "id": "i7B9_rIO3xAK",
        "colab": {
          "base_uri": "https://localhost:8080/"
        },
        "outputId": "529e5dbd-979d-4641-bc4e-ddee50939288"
      },
      "execution_count": null,
      "outputs": [
        {
          "output_type": "execute_result",
          "data": {
            "text/plain": [
              "24"
            ]
          },
          "metadata": {},
          "execution_count": 46
        }
      ]
    },
    {
      "cell_type": "markdown",
      "source": [
        "**Label encoding for the target**"
      ],
      "metadata": {
        "id": "JvMWk5twfIaH"
      }
    },
    {
      "cell_type": "code",
      "source": [
        "# label encoding\n",
        "from sklearn.preprocessing import LabelBinarizer\n",
        "label_binrizer = LabelBinarizer()\n",
        "y = label_binrizer.fit_transform(y)"
      ],
      "metadata": {
        "id": "kapJzTTR1eCH"
      },
      "execution_count": null,
      "outputs": []
    },
    {
      "cell_type": "markdown",
      "source": [
        "**Splitting the data**"
      ],
      "metadata": {
        "id": "vV2w66YufMKj"
      }
    },
    {
      "cell_type": "code",
      "source": [
        "|X_train, X_test, y_train, y_test = train_test_split(X, y, test_size=0.1, random_state = 11)"
      ],
      "metadata": {
        "id": "2SyqmIFHzUrU"
      },
      "execution_count": null,
      "outputs": []
    },
    {
      "cell_type": "code",
      "source": [
        "from sklearn.model_selection import train_test_split\n",
        "print(\"x_train shape\",X_train.shape)\n",
        "print(\"x_test shape\",X_test.shape)\n",
        "print(\"y_train shape\",y_train.shape)\n",
        "print(\"y_test shape\",y_test.shape)"
      ],
      "metadata": {
        "id": "4ssg6OQB1cf-",
        "colab": {
          "base_uri": "https://localhost:8080/"
        },
        "outputId": "5c550697-b961-4ddd-dadf-4c08d8bd7b58"
      },
      "execution_count": null,
      "outputs": [
        {
          "output_type": "stream",
          "name": "stdout",
          "text": [
            "x_train shape (24709, 784)\n",
            "x_test shape (2746, 784)\n",
            "y_train shape (24709, 24)\n",
            "y_test shape (2746, 24)\n"
          ]
        }
      ]
    },
    {
      "cell_type": "markdown",
      "source": [
        "**Standard Scaling**"
      ],
      "metadata": {
        "id": "XDQjjjFNfTQz"
      }
    },
    {
      "cell_type": "code",
      "source": [
        "ss = StandardScaler()\n",
        "ss.fit(X_train)\n",
        "X_train = ss.transform(X_train)\n",
        "X_test = ss.transform(X_test)"
      ],
      "metadata": {
        "id": "aLdA9KNRzUuy",
        "colab": {
          "base_uri": "https://localhost:8080/",
          "height": 74
        },
        "outputId": "7939a9f5-855d-4477-ab35-a407bb10ebea"
      },
      "execution_count": null,
      "outputs": [
        {
          "output_type": "execute_result",
          "data": {
            "text/plain": [
              "StandardScaler()"
            ],
            "text/html": [
              "<style>#sk-container-id-3 {color: black;background-color: white;}#sk-container-id-3 pre{padding: 0;}#sk-container-id-3 div.sk-toggleable {background-color: white;}#sk-container-id-3 label.sk-toggleable__label {cursor: pointer;display: block;width: 100%;margin-bottom: 0;padding: 0.3em;box-sizing: border-box;text-align: center;}#sk-container-id-3 label.sk-toggleable__label-arrow:before {content: \"▸\";float: left;margin-right: 0.25em;color: #696969;}#sk-container-id-3 label.sk-toggleable__label-arrow:hover:before {color: black;}#sk-container-id-3 div.sk-estimator:hover label.sk-toggleable__label-arrow:before {color: black;}#sk-container-id-3 div.sk-toggleable__content {max-height: 0;max-width: 0;overflow: hidden;text-align: left;background-color: #f0f8ff;}#sk-container-id-3 div.sk-toggleable__content pre {margin: 0.2em;color: black;border-radius: 0.25em;background-color: #f0f8ff;}#sk-container-id-3 input.sk-toggleable__control:checked~div.sk-toggleable__content {max-height: 200px;max-width: 100%;overflow: auto;}#sk-container-id-3 input.sk-toggleable__control:checked~label.sk-toggleable__label-arrow:before {content: \"▾\";}#sk-container-id-3 div.sk-estimator input.sk-toggleable__control:checked~label.sk-toggleable__label {background-color: #d4ebff;}#sk-container-id-3 div.sk-label input.sk-toggleable__control:checked~label.sk-toggleable__label {background-color: #d4ebff;}#sk-container-id-3 input.sk-hidden--visually {border: 0;clip: rect(1px 1px 1px 1px);clip: rect(1px, 1px, 1px, 1px);height: 1px;margin: -1px;overflow: hidden;padding: 0;position: absolute;width: 1px;}#sk-container-id-3 div.sk-estimator {font-family: monospace;background-color: #f0f8ff;border: 1px dotted black;border-radius: 0.25em;box-sizing: border-box;margin-bottom: 0.5em;}#sk-container-id-3 div.sk-estimator:hover {background-color: #d4ebff;}#sk-container-id-3 div.sk-parallel-item::after {content: \"\";width: 100%;border-bottom: 1px solid gray;flex-grow: 1;}#sk-container-id-3 div.sk-label:hover label.sk-toggleable__label {background-color: #d4ebff;}#sk-container-id-3 div.sk-serial::before {content: \"\";position: absolute;border-left: 1px solid gray;box-sizing: border-box;top: 0;bottom: 0;left: 50%;z-index: 0;}#sk-container-id-3 div.sk-serial {display: flex;flex-direction: column;align-items: center;background-color: white;padding-right: 0.2em;padding-left: 0.2em;position: relative;}#sk-container-id-3 div.sk-item {position: relative;z-index: 1;}#sk-container-id-3 div.sk-parallel {display: flex;align-items: stretch;justify-content: center;background-color: white;position: relative;}#sk-container-id-3 div.sk-item::before, #sk-container-id-3 div.sk-parallel-item::before {content: \"\";position: absolute;border-left: 1px solid gray;box-sizing: border-box;top: 0;bottom: 0;left: 50%;z-index: -1;}#sk-container-id-3 div.sk-parallel-item {display: flex;flex-direction: column;z-index: 1;position: relative;background-color: white;}#sk-container-id-3 div.sk-parallel-item:first-child::after {align-self: flex-end;width: 50%;}#sk-container-id-3 div.sk-parallel-item:last-child::after {align-self: flex-start;width: 50%;}#sk-container-id-3 div.sk-parallel-item:only-child::after {width: 0;}#sk-container-id-3 div.sk-dashed-wrapped {border: 1px dashed gray;margin: 0 0.4em 0.5em 0.4em;box-sizing: border-box;padding-bottom: 0.4em;background-color: white;}#sk-container-id-3 div.sk-label label {font-family: monospace;font-weight: bold;display: inline-block;line-height: 1.2em;}#sk-container-id-3 div.sk-label-container {text-align: center;}#sk-container-id-3 div.sk-container {/* jupyter's `normalize.less` sets `[hidden] { display: none; }` but bootstrap.min.css set `[hidden] { display: none !important; }` so we also need the `!important` here to be able to override the default hidden behavior on the sphinx rendered scikit-learn.org. See: https://github.com/scikit-learn/scikit-learn/issues/21755 */display: inline-block !important;position: relative;}#sk-container-id-3 div.sk-text-repr-fallback {display: none;}</style><div id=\"sk-container-id-3\" class=\"sk-top-container\"><div class=\"sk-text-repr-fallback\"><pre>StandardScaler()</pre><b>In a Jupyter environment, please rerun this cell to show the HTML representation or trust the notebook. <br />On GitHub, the HTML representation is unable to render, please try loading this page with nbviewer.org.</b></div><div class=\"sk-container\" hidden><div class=\"sk-item\"><div class=\"sk-estimator sk-toggleable\"><input class=\"sk-toggleable__control sk-hidden--visually\" id=\"sk-estimator-id-3\" type=\"checkbox\" checked><label for=\"sk-estimator-id-3\" class=\"sk-toggleable__label sk-toggleable__label-arrow\">StandardScaler</label><div class=\"sk-toggleable__content\"><pre>StandardScaler()</pre></div></div></div></div></div>"
            ]
          },
          "metadata": {},
          "execution_count": 63
        }
      ]
    },
    {
      "cell_type": "markdown",
      "source": [
        "**Creating the model**"
      ],
      "metadata": {
        "id": "pOb7KTkofX1S"
      }
    },
    {
      "cell_type": "code",
      "source": [
        "mx = tf.keras.Sequential()"
      ],
      "metadata": {
        "id": "e1qdfwWozUwW"
      },
      "execution_count": null,
      "outputs": []
    },
    {
      "cell_type": "code",
      "source": [
        "mx.add( tf.keras.layers.Input(shape = [784] ))"
      ],
      "metadata": {
        "id": "d24mt43RzUzv"
      },
      "execution_count": null,
      "outputs": []
    },
    {
      "cell_type": "code",
      "source": [
        "mx.add(tf.keras.layers.Dense(500, activation = 'relu'))"
      ],
      "metadata": {
        "id": "drhuiSn0zU4Z"
      },
      "execution_count": null,
      "outputs": []
    },
    {
      "cell_type": "code",
      "source": [
        "mx.add(tf.keras.layers.Dense(200, activation = 'selu'))"
      ],
      "metadata": {
        "id": "c2YL1clzzU52"
      },
      "execution_count": null,
      "outputs": []
    },
    {
      "cell_type": "code",
      "source": [
        "mx.add(tf.keras.layers.Dense(24, activation = 'softmax'))"
      ],
      "metadata": {
        "id": "aU0xz0Y2zU9E"
      },
      "execution_count": null,
      "outputs": []
    },
    {
      "cell_type": "markdown",
      "source": [
        "**Model Summary**"
      ],
      "metadata": {
        "id": "LSSXQzYlfbKU"
      }
    },
    {
      "cell_type": "code",
      "source": [
        "mx.summary()"
      ],
      "metadata": {
        "id": "US-C2xs7zU-a",
        "colab": {
          "base_uri": "https://localhost:8080/"
        },
        "outputId": "7439665a-f3ef-482c-b6c7-e1a1a049226d"
      },
      "execution_count": null,
      "outputs": [
        {
          "output_type": "stream",
          "name": "stdout",
          "text": [
            "Model: \"sequential_2\"\n",
            "_________________________________________________________________\n",
            " Layer (type)                Output Shape              Param #   \n",
            "=================================================================\n",
            " dense_6 (Dense)             (None, 500)               392500    \n",
            "                                                                 \n",
            " dense_7 (Dense)             (None, 200)               100200    \n",
            "                                                                 \n",
            " dense_8 (Dense)             (None, 24)                4824      \n",
            "                                                                 \n",
            "=================================================================\n",
            "Total params: 497,524\n",
            "Trainable params: 497,524\n",
            "Non-trainable params: 0\n",
            "_________________________________________________________________\n"
          ]
        }
      ]
    },
    {
      "cell_type": "markdown",
      "source": [
        "**Compling the model**"
      ],
      "metadata": {
        "id": "PR8yQ-Jxfg3x"
      }
    },
    {
      "cell_type": "code",
      "source": [
        "mx.compile(optimizer='adam', loss='categorical_crossentropy', metrics=['accuracy'])"
      ],
      "metadata": {
        "id": "FzEZziY4zVBq"
      },
      "execution_count": null,
      "outputs": []
    },
    {
      "cell_type": "markdown",
      "source": [
        "**Fitting the train data in the model**"
      ],
      "metadata": {
        "id": "lJ-CuG8xfjQZ"
      }
    },
    {
      "cell_type": "code",
      "source": [
        "history =  mx.fit(X_train, y_train, epochs=50)\n"
      ],
      "metadata": {
        "id": "7YMCstX40Pa0",
        "colab": {
          "base_uri": "https://localhost:8080/"
        },
        "outputId": "74504b13-a468-47b7-b217-f64d17462782"
      },
      "execution_count": null,
      "outputs": [
        {
          "output_type": "stream",
          "name": "stdout",
          "text": [
            "Epoch 1/50\n",
            "773/773 [==============================] - 9s 10ms/step - loss: 0.3554 - accuracy: 0.9000\n",
            "Epoch 2/50\n",
            "773/773 [==============================] - 7s 10ms/step - loss: 0.1045 - accuracy: 0.9719\n",
            "Epoch 3/50\n",
            "773/773 [==============================] - 6s 8ms/step - loss: 0.0613 - accuracy: 0.9853\n",
            "Epoch 4/50\n",
            "773/773 [==============================] - 8s 10ms/step - loss: 1.7084e-04 - accuracy: 1.0000\n",
            "Epoch 5/50\n",
            "773/773 [==============================] - 6s 8ms/step - loss: 8.8655e-05 - accuracy: 1.0000\n",
            "Epoch 6/50\n",
            "773/773 [==============================] - 10s 13ms/step - loss: 5.8552e-05 - accuracy: 1.0000\n",
            "Epoch 7/50\n",
            "773/773 [==============================] - 10s 12ms/step - loss: 4.0536e-05 - accuracy: 1.0000\n",
            "Epoch 8/50\n",
            "773/773 [==============================] - 8s 11ms/step - loss: 2.8360e-05 - accuracy: 1.0000\n",
            "Epoch 9/50\n",
            "773/773 [==============================] - 9s 11ms/step - loss: 2.0123e-05 - accuracy: 1.0000\n",
            "Epoch 10/50\n",
            "773/773 [==============================] - 6s 8ms/step - loss: 1.4169e-05 - accuracy: 1.0000\n",
            "Epoch 11/50\n",
            "773/773 [==============================] - 8s 11ms/step - loss: 1.0039e-05 - accuracy: 1.0000\n",
            "Epoch 12/50\n",
            "773/773 [==============================] - 6s 8ms/step - loss: 7.0940e-06 - accuracy: 1.0000\n",
            "Epoch 13/50\n",
            "773/773 [==============================] - 7s 10ms/step - loss: 4.9931e-06 - accuracy: 1.0000\n",
            "Epoch 14/50\n",
            "773/773 [==============================] - 6s 8ms/step - loss: 3.4943e-06 - accuracy: 1.0000\n",
            "Epoch 15/50\n",
            "773/773 [==============================] - 7s 9ms/step - loss: 2.4222e-06 - accuracy: 1.0000\n",
            "Epoch 16/50\n",
            "773/773 [==============================] - 7s 9ms/step - loss: 1.6915e-06 - accuracy: 1.0000\n",
            "Epoch 17/50\n",
            "773/773 [==============================] - 7s 9ms/step - loss: 1.1729e-06 - accuracy: 1.0000\n",
            "Epoch 18/50\n",
            "773/773 [==============================] - 7s 9ms/step - loss: 8.0424e-07 - accuracy: 1.0000\n",
            "Epoch 19/50\n",
            "773/773 [==============================] - 6s 8ms/step - loss: 5.5533e-07 - accuracy: 1.0000\n",
            "Epoch 20/50\n",
            "773/773 [==============================] - 8s 10ms/step - loss: 3.8113e-07 - accuracy: 1.0000\n",
            "Epoch 21/50\n",
            "773/773 [==============================] - 7s 10ms/step - loss: 2.6209e-07 - accuracy: 1.0000\n",
            "Epoch 22/50\n",
            "773/773 [==============================] - 7s 9ms/step - loss: 1.7847e-07 - accuracy: 1.0000\n",
            "Epoch 23/50\n",
            "773/773 [==============================] - 6s 8ms/step - loss: 1.2207e-07 - accuracy: 1.0000\n",
            "Epoch 24/50\n",
            "773/773 [==============================] - 8s 10ms/step - loss: 8.3899e-08 - accuracy: 1.0000\n",
            "Epoch 25/50\n",
            "773/773 [==============================] - 8s 10ms/step - loss: 5.7918e-08 - accuracy: 1.0000\n",
            "Epoch 26/50\n",
            "773/773 [==============================] - 7s 9ms/step - loss: 4.0111e-08 - accuracy: 1.0000\n",
            "Epoch 27/50\n",
            "773/773 [==============================] - 6s 8ms/step - loss: 2.7982e-08 - accuracy: 1.0000\n",
            "Epoch 28/50\n",
            "773/773 [==============================] - 7s 10ms/step - loss: 1.9983e-08 - accuracy: 1.0000\n",
            "Epoch 29/50\n",
            "773/773 [==============================] - 6s 8ms/step - loss: 1.4416e-08 - accuracy: 1.0000\n",
            "Epoch 30/50\n",
            "773/773 [==============================] - 8s 10ms/step - loss: 1.0657e-08 - accuracy: 1.0000\n",
            "Epoch 31/50\n",
            "773/773 [==============================] - 6s 8ms/step - loss: 8.1535e-09 - accuracy: 1.0000\n",
            "Epoch 32/50\n",
            "773/773 [==============================] - 8s 10ms/step - loss: 6.3636e-09 - accuracy: 1.0000\n",
            "Epoch 33/50\n",
            "773/773 [==============================] - 6s 8ms/step - loss: 5.2008e-09 - accuracy: 1.0000\n",
            "Epoch 34/50\n",
            "773/773 [==============================] - 8s 10ms/step - loss: 4.3517e-09 - accuracy: 1.0000\n",
            "Epoch 35/50\n",
            "773/773 [==============================] - 6s 8ms/step - loss: 3.7245e-09 - accuracy: 1.0000\n",
            "Epoch 36/50\n",
            "773/773 [==============================] - 8s 10ms/step - loss: 3.3289e-09 - accuracy: 1.0000\n",
            "Epoch 37/50\n",
            "773/773 [==============================] - 6s 8ms/step - loss: 2.9719e-09 - accuracy: 1.0000\n",
            "Epoch 38/50\n",
            "773/773 [==============================] - 8s 10ms/step - loss: 2.8802e-09 - accuracy: 1.0000\n",
            "Epoch 39/50\n",
            "773/773 [==============================] - 6s 8ms/step - loss: 2.8465e-09 - accuracy: 1.0000\n",
            "Epoch 40/50\n",
            "773/773 [==============================] - 8s 10ms/step - loss: 2.5618e-09 - accuracy: 1.0000\n",
            "Epoch 41/50\n",
            "773/773 [==============================] - 6s 8ms/step - loss: 2.6969e-09 - accuracy: 1.0000\n",
            "Epoch 42/50\n",
            "773/773 [==============================] - 8s 10ms/step - loss: 2.4750e-09 - accuracy: 1.0000\n",
            "Epoch 43/50\n",
            "773/773 [==============================] - 6s 8ms/step - loss: 2.5908e-09 - accuracy: 1.0000\n",
            "Epoch 44/50\n",
            "773/773 [==============================] - 7s 9ms/step - loss: 2.4267e-09 - accuracy: 1.0000\n",
            "Epoch 45/50\n",
            "773/773 [==============================] - 6s 8ms/step - loss: 2.7452e-09 - accuracy: 1.0000\n",
            "Epoch 46/50\n",
            "773/773 [==============================] - 7s 9ms/step - loss: 2.7066e-09 - accuracy: 1.0000\n",
            "Epoch 47/50\n",
            "773/773 [==============================] - 7s 9ms/step - loss: 2.5763e-09 - accuracy: 1.0000\n",
            "Epoch 48/50\n",
            "773/773 [==============================] - 7s 9ms/step - loss: 3.0684e-09 - accuracy: 1.0000\n",
            "Epoch 49/50\n",
            "773/773 [==============================] - 7s 9ms/step - loss: 0.4453 - accuracy: 0.9639\n",
            "Epoch 50/50\n",
            "773/773 [==============================] - 6s 8ms/step - loss: 0.0163 - accuracy: 0.9962\n"
          ]
        }
      ]
    },
    {
      "cell_type": "markdown",
      "source": [
        "**Plot for Training Loss**"
      ],
      "metadata": {
        "id": "zz_NqhARfrfZ"
      }
    },
    {
      "cell_type": "code",
      "source": [
        "# Plot training loss\n",
        "plt.plot(history.history['loss'], label='Training Loss')\n",
        "plt.xlabel('Epoch')\n",
        "plt.ylabel('Loss')\n",
        "plt.legend()\n",
        "plt.show();"
      ],
      "metadata": {
        "id": "JPuckEjp0PcT",
        "colab": {
          "base_uri": "https://localhost:8080/",
          "height": 458
        },
        "outputId": "4997f4a6-883d-450b-910f-20f3778bb302"
      },
      "execution_count": null,
      "outputs": [
        {
          "output_type": "display_data",
          "data": {
            "text/plain": [
              "<Figure size 640x480 with 1 Axes>"
            ],
            "image/png": "[encoded data removed]"
          },
          "metadata": {}
        }
      ]
    },
    {
      "cell_type": "markdown",
      "source": [
        "**Plot for Training Accuracy**"
      ],
      "metadata": {
        "id": "Bs5xznuifzXc"
      }
    },
    {
      "cell_type": "code",
      "source": [
        "plt.plot(history.history['accuracy'], label='Training Accuracy')\n",
        "plt.xlabel('Epoch')\n",
        "plt.ylabel('Accuracy')\n",
        "plt.legend()\n",
        "plt.show();"
      ],
      "metadata": {
        "id": "bMeH3-WO0Pfo",
        "colab": {
          "base_uri": "https://localhost:8080/",
          "height": 458
        },
        "outputId": "3a091a37-a14c-4419-d448-0a34aa66b84a"
      },
      "execution_count": null,
      "outputs": [
        {
          "output_type": "display_data",
          "data": {
            "text/plain": [
              "<Figure size 640x480 with 1 Axes>"
            ],
            "image/png": "[encoded data removed]"
          },
          "metadata": {}
        }
      ]
    },
    {
      "cell_type": "markdown",
      "source": [
        "**Test Loss & Accuracy**"
      ],
      "metadata": {
        "id": "v7aE-K9nf38P"
      }
    },
    {
      "cell_type": "code",
      "source": [
        "test_loss,test_accuracy=mx.evaluate(X_test,y_test)\n",
        "print(\"test_loss\",test_loss,\"\\n\",\"test_accuracy\",test_accuracy)"
      ],
      "metadata": {
        "id": "RlXt9MXxUH_T",
        "colab": {
          "base_uri": "https://localhost:8080/"
        },
        "outputId": "72111c9d-00ba-4e2c-9461-d355e6fb3fd1"
      },
      "execution_count": null,
      "outputs": [
        {
          "output_type": "stream",
          "name": "stdout",
          "text": [
            "86/86 [==============================] - 0s 3ms/step - loss: 0.0320 - accuracy: 0.9905\n",
            "test_loss 0.03201315179467201 \n",
            " test_accuracy 0.9905316829681396\n"
          ]
        }
      ]
    },
    {
      "cell_type": "markdown",
      "source": [
        "**1. Test Loss:** The calculated test loss is 0.0320. This test loss, similar to the training loss, gauges how well the model's predictions correspond to the actual target values, albeit on the test dataset.\n",
        "\n",
        "**2. Test Accuracy:** The test accuracy is measured as 0.9905, which corresponds to around 99.05%. This result implies that the model accurately predicted approximately 99.05% of the samples present in the test dataset.\n",
        "\n",
        "**3.** The model demonstrates high accuracy and low loss in test datasets. This suggests that the model has effectively learned the underlying patterns inherent in the train data and successfully generalized its predictions to new, previously unseen test data."
      ],
      "metadata": {
        "id": "Ix-aHDWYhobH"
      }
    },
    {
      "cell_type": "markdown",
      "source": [
        "**THE END**"
      ],
      "metadata": {
        "id": "lTMzWY8RdNqA"
      }
    }
  ]
}