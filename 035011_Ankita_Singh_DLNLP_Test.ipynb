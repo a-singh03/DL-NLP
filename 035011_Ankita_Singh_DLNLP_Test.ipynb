{
  "nbformat": 4,
  "nbformat_minor": 0,
  "metadata": {
    "colab": {
      "provenance": [],
      "authorship_tag": "ABX9TyOvb04brB1RMYghZqjbgNOm",
      "include_colab_link": true
    },
    "kernelspec": {
      "name": "python3",
      "display_name": "Python 3"
    },
    "language_info": {
      "name": "python"
    }
  },
  "cells": [
    {
      "cell_type": "markdown",
      "metadata": {
        "id": "view-in-github",
        "colab_type": "text"
      },
      "source": [
        "<a href=\"https://colab.research.google.com/github/a-singh03/DL-NLP/blob/main/035011_Ankita_Singh_DLNLP_Test.ipynb\" target=\"_parent\"><img src=\"https://colab.research.google.com/assets/colab-badge.svg\" alt=\"Open In Colab\"/></a>"
      ]
    },
    {
      "cell_type": "code",
      "execution_count": 1,
      "metadata": {
        "id": "qY4BaBvpicgc"
      },
      "outputs": [],
      "source": [
        "import pandas as pd\n",
        "import numpy as np\n",
        "from  pathlib import Path"
      ]
    },
    {
      "cell_type": "markdown",
      "source": [
        "a. Call necessary libraries to build a NN model"
      ],
      "metadata": {
        "id": "ch9dEC__nSjK"
      }
    },
    {
      "cell_type": "code",
      "source": [
        "import tensorflow as tf\n",
        "from tensorflow import keras\n",
        "from tensorflow.keras import layers"
      ],
      "metadata": {
        "id": "-_AcFQwHjZ2_"
      },
      "execution_count": 2,
      "outputs": []
    },
    {
      "cell_type": "code",
      "source": [
        "from IPython.core.interactiveshell import InteractiveShell\n",
        "InteractiveShell.ast_node_interactivity = \"all\""
      ],
      "metadata": {
        "id": "WcaxYWC3jlCf"
      },
      "execution_count": 3,
      "outputs": []
    },
    {
      "cell_type": "markdown",
      "source": [
        "b. Read california_housing_train.csv dataset"
      ],
      "metadata": {
        "id": "I_O4v9KxnUeC"
      }
    },
    {
      "cell_type": "code",
      "source": [
        "from google.colab import drive\n",
        "drive.mount('/gdrive')"
      ],
      "metadata": {
        "colab": {
          "base_uri": "https://localhost:8080/"
        },
        "id": "fYBqQG7Vjno1",
        "outputId": "5a8dfafa-8bbf-4e12-a0cb-9bf085883342"
      },
      "execution_count": 4,
      "outputs": [
        {
          "output_type": "stream",
          "name": "stdout",
          "text": [
            "Mounted at /gdrive\n"
          ]
        }
      ]
    },
    {
      "cell_type": "code",
      "source": [
        "pathToFolder = \"/content/sample_data\""
      ],
      "metadata": {
        "id": "DZdk-Ssojp6d"
      },
      "execution_count": 5,
      "outputs": []
    },
    {
      "cell_type": "code",
      "source": [
        "path = Path(pathToFolder) / \"california_housing_train.csv\""
      ],
      "metadata": {
        "id": "KAyt_XIxj5J-"
      },
      "execution_count": 6,
      "outputs": []
    },
    {
      "cell_type": "markdown",
      "source": [
        "c. Explore the data using pandas"
      ],
      "metadata": {
        "id": "Tj31WEssnX1z"
      }
    },
    {
      "cell_type": "code",
      "source": [
        "file = pd.read_csv(path)\n",
        "file.head()"
      ],
      "metadata": {
        "colab": {
          "base_uri": "https://localhost:8080/",
          "height": 270
        },
        "id": "-KpJ1EIDkGNd",
        "outputId": "fed9d48b-2275-42c8-c374-563e07fcb7a6"
      },
      "execution_count": 7,
      "outputs": [
        {
          "output_type": "execute_result",
          "data": {
            "text/plain": [
              "   longitude  latitude  housing_median_age  total_rooms  total_bedrooms  \\\n",
              "0    -114.31     34.19                15.0       5612.0          1283.0   \n",
              "1    -114.47     34.40                19.0       7650.0          1901.0   \n",
              "2    -114.56     33.69                17.0        720.0           174.0   \n",
              "3    -114.57     33.64                14.0       1501.0           337.0   \n",
              "4    -114.57     33.57                20.0       1454.0           326.0   \n",
              "\n",
              "   population  households  median_income  median_house_value  \n",
              "0      1015.0       472.0         1.4936             66900.0  \n",
              "1      1129.0       463.0         1.8200             80100.0  \n",
              "2       333.0       117.0         1.6509             85700.0  \n",
              "3       515.0       226.0         3.1917             73400.0  \n",
              "4       624.0       262.0         1.9250             65500.0  "
            ],
            "text/html": [
              "\n",
              "\n",
              "  <div id=\"df-b511ce94-fd6a-464c-84bc-1f40f72a7978\">\n",
              "    <div class=\"colab-df-container\">\n",
              "      <div>\n",
              "<style scoped>\n",
              "    .dataframe tbody tr th:only-of-type {\n",
              "        vertical-align: middle;\n",
              "    }\n",
              "\n",
              "    .dataframe tbody tr th {\n",
              "        vertical-align: top;\n",
              "    }\n",
              "\n",
              "    .dataframe thead th {\n",
              "        text-align: right;\n",
              "    }\n",
              "</style>\n",
              "<table border=\"1\" class=\"dataframe\">\n",
              "  <thead>\n",
              "    <tr style=\"text-align: right;\">\n",
              "      <th></th>\n",
              "      <th>longitude</th>\n",
              "      <th>latitude</th>\n",
              "      <th>housing_median_age</th>\n",
              "      <th>total_rooms</th>\n",
              "      <th>total_bedrooms</th>\n",
              "      <th>population</th>\n",
              "      <th>households</th>\n",
              "      <th>median_income</th>\n",
              "      <th>median_house_value</th>\n",
              "    </tr>\n",
              "  </thead>\n",
              "  <tbody>\n",
              "    <tr>\n",
              "      <th>0</th>\n",
              "      <td>-114.31</td>\n",
              "      <td>34.19</td>\n",
              "      <td>15.0</td>\n",
              "      <td>5612.0</td>\n",
              "      <td>1283.0</td>\n",
              "      <td>1015.0</td>\n",
              "      <td>472.0</td>\n",
              "      <td>1.4936</td>\n",
              "      <td>66900.0</td>\n",
              "    </tr>\n",
              "    <tr>\n",
              "      <th>1</th>\n",
              "      <td>-114.47</td>\n",
              "      <td>34.40</td>\n",
              "      <td>19.0</td>\n",
              "      <td>7650.0</td>\n",
              "      <td>1901.0</td>\n",
              "      <td>1129.0</td>\n",
              "      <td>463.0</td>\n",
              "      <td>1.8200</td>\n",
              "      <td>80100.0</td>\n",
              "    </tr>\n",
              "    <tr>\n",
              "      <th>2</th>\n",
              "      <td>-114.56</td>\n",
              "      <td>33.69</td>\n",
              "      <td>17.0</td>\n",
              "      <td>720.0</td>\n",
              "      <td>174.0</td>\n",
              "      <td>333.0</td>\n",
              "      <td>117.0</td>\n",
              "      <td>1.6509</td>\n",
              "      <td>85700.0</td>\n",
              "    </tr>\n",
              "    <tr>\n",
              "      <th>3</th>\n",
              "      <td>-114.57</td>\n",
              "      <td>33.64</td>\n",
              "      <td>14.0</td>\n",
              "      <td>1501.0</td>\n",
              "      <td>337.0</td>\n",
              "      <td>515.0</td>\n",
              "      <td>226.0</td>\n",
              "      <td>3.1917</td>\n",
              "      <td>73400.0</td>\n",
              "    </tr>\n",
              "    <tr>\n",
              "      <th>4</th>\n",
              "      <td>-114.57</td>\n",
              "      <td>33.57</td>\n",
              "      <td>20.0</td>\n",
              "      <td>1454.0</td>\n",
              "      <td>326.0</td>\n",
              "      <td>624.0</td>\n",
              "      <td>262.0</td>\n",
              "      <td>1.9250</td>\n",
              "      <td>65500.0</td>\n",
              "    </tr>\n",
              "  </tbody>\n",
              "</table>\n",
              "</div>\n",
              "      <button class=\"colab-df-convert\" onclick=\"convertToInteractive('df-b511ce94-fd6a-464c-84bc-1f40f72a7978')\"\n",
              "              title=\"Convert this dataframe to an interactive table.\"\n",
              "              style=\"display:none;\">\n",
              "\n",
              "  <svg xmlns=\"http://www.w3.org/2000/svg\" height=\"24px\"viewBox=\"0 0 24 24\"\n",
              "       width=\"24px\">\n",
              "    <path d=\"M0 0h24v24H0V0z\" fill=\"none\"/>\n",
              "    <path d=\"M18.56 5.44l.94 2.06.94-2.06 2.06-.94-2.06-.94-.94-2.06-.94 2.06-2.06.94zm-11 1L8.5 8.5l.94-2.06 2.06-.94-2.06-.94L8.5 2.5l-.94 2.06-2.06.94zm10 10l.94 2.06.94-2.06 2.06-.94-2.06-.94-.94-2.06-.94 2.06-2.06.94z\"/><path d=\"M17.41 7.96l-1.37-1.37c-.4-.4-.92-.59-1.43-.59-.52 0-1.04.2-1.43.59L10.3 9.45l-7.72 7.72c-.78.78-.78 2.05 0 2.83L4 21.41c.39.39.9.59 1.41.59.51 0 1.02-.2 1.41-.59l7.78-7.78 2.81-2.81c.8-.78.8-2.07 0-2.86zM5.41 20L4 18.59l7.72-7.72 1.47 1.35L5.41 20z\"/>\n",
              "  </svg>\n",
              "      </button>\n",
              "\n",
              "\n",
              "\n",
              "    <div id=\"df-615d90a6-d225-409b-881a-15847350b2ce\">\n",
              "      <button class=\"colab-df-quickchart\" onclick=\"quickchart('df-615d90a6-d225-409b-881a-15847350b2ce')\"\n",
              "              title=\"Suggest charts.\"\n",
              "              style=\"display:none;\">\n",
              "\n",
              "<svg xmlns=\"http://www.w3.org/2000/svg\" height=\"24px\"viewBox=\"0 0 24 24\"\n",
              "     width=\"24px\">\n",
              "    <g>\n",
              "        <path d=\"M19 3H5c-1.1 0-2 .9-2 2v14c0 1.1.9 2 2 2h14c1.1 0 2-.9 2-2V5c0-1.1-.9-2-2-2zM9 17H7v-7h2v7zm4 0h-2V7h2v10zm4 0h-2v-4h2v4z\"/>\n",
              "    </g>\n",
              "</svg>\n",
              "      </button>\n",
              "    </div>\n",
              "\n",
              "<style>\n",
              "  .colab-df-quickchart {\n",
              "    background-color: #E8F0FE;\n",
              "    border: none;\n",
              "    border-radius: 50%;\n",
              "    cursor: pointer;\n",
              "    display: none;\n",
              "    fill: #1967D2;\n",
              "    height: 32px;\n",
              "    padding: 0 0 0 0;\n",
              "    width: 32px;\n",
              "  }\n",
              "\n",
              "  .colab-df-quickchart:hover {\n",
              "    background-color: #E2EBFA;\n",
              "    box-shadow: 0px 1px 2px rgba(60, 64, 67, 0.3), 0px 1px 3px 1px rgba(60, 64, 67, 0.15);\n",
              "    fill: #174EA6;\n",
              "  }\n",
              "\n",
              "  [theme=dark] .colab-df-quickchart {\n",
              "    background-color: #3B4455;\n",
              "    fill: #D2E3FC;\n",
              "  }\n",
              "\n",
              "  [theme=dark] .colab-df-quickchart:hover {\n",
              "    background-color: #434B5C;\n",
              "    box-shadow: 0px 1px 3px 1px rgba(0, 0, 0, 0.15);\n",
              "    filter: drop-shadow(0px 1px 2px rgba(0, 0, 0, 0.3));\n",
              "    fill: #FFFFFF;\n",
              "  }\n",
              "</style>\n",
              "\n",
              "    <script>\n",
              "      async function quickchart(key) {\n",
              "        const containerElement = document.querySelector('#' + key);\n",
              "        const charts = await google.colab.kernel.invokeFunction(\n",
              "            'suggestCharts', [key], {});\n",
              "      }\n",
              "    </script>\n",
              "\n",
              "      <script>\n",
              "\n",
              "function displayQuickchartButton(domScope) {\n",
              "  let quickchartButtonEl =\n",
              "    domScope.querySelector('#df-615d90a6-d225-409b-881a-15847350b2ce button.colab-df-quickchart');\n",
              "  quickchartButtonEl.style.display =\n",
              "    google.colab.kernel.accessAllowed ? 'block' : 'none';\n",
              "}\n",
              "\n",
              "        displayQuickchartButton(document);\n",
              "      </script>\n",
              "      <style>\n",
              "    .colab-df-container {\n",
              "      display:flex;\n",
              "      flex-wrap:wrap;\n",
              "      gap: 12px;\n",
              "    }\n",
              "\n",
              "    .colab-df-convert {\n",
              "      background-color: #E8F0FE;\n",
              "      border: none;\n",
              "      border-radius: 50%;\n",
              "      cursor: pointer;\n",
              "      display: none;\n",
              "      fill: #1967D2;\n",
              "      height: 32px;\n",
              "      padding: 0 0 0 0;\n",
              "      width: 32px;\n",
              "    }\n",
              "\n",
              "    .colab-df-convert:hover {\n",
              "      background-color: #E2EBFA;\n",
              "      box-shadow: 0px 1px 2px rgba(60, 64, 67, 0.3), 0px 1px 3px 1px rgba(60, 64, 67, 0.15);\n",
              "      fill: #174EA6;\n",
              "    }\n",
              "\n",
              "    [theme=dark] .colab-df-convert {\n",
              "      background-color: #3B4455;\n",
              "      fill: #D2E3FC;\n",
              "    }\n",
              "\n",
              "    [theme=dark] .colab-df-convert:hover {\n",
              "      background-color: #434B5C;\n",
              "      box-shadow: 0px 1px 3px 1px rgba(0, 0, 0, 0.15);\n",
              "      filter: drop-shadow(0px 1px 2px rgba(0, 0, 0, 0.3));\n",
              "      fill: #FFFFFF;\n",
              "    }\n",
              "  </style>\n",
              "\n",
              "      <script>\n",
              "        const buttonEl =\n",
              "          document.querySelector('#df-b511ce94-fd6a-464c-84bc-1f40f72a7978 button.colab-df-convert');\n",
              "        buttonEl.style.display =\n",
              "          google.colab.kernel.accessAllowed ? 'block' : 'none';\n",
              "\n",
              "        async function convertToInteractive(key) {\n",
              "          const element = document.querySelector('#df-b511ce94-fd6a-464c-84bc-1f40f72a7978');\n",
              "          const dataTable =\n",
              "            await google.colab.kernel.invokeFunction('convertToInteractive',\n",
              "                                                     [key], {});\n",
              "          if (!dataTable) return;\n",
              "\n",
              "          const docLinkHtml = 'Like what you see? Visit the ' +\n",
              "            '<a target=\"_blank\" href=https://colab.research.google.com/notebooks/data_table.ipynb>data table notebook</a>'\n",
              "            + ' to learn more about interactive tables.';\n",
              "          element.innerHTML = '';\n",
              "          dataTable['output_type'] = 'display_data';\n",
              "          await google.colab.output.renderOutput(dataTable, element);\n",
              "          const docLink = document.createElement('div');\n",
              "          docLink.innerHTML = docLinkHtml;\n",
              "          element.appendChild(docLink);\n",
              "        }\n",
              "      </script>\n",
              "    </div>\n",
              "  </div>\n"
            ]
          },
          "metadata": {},
          "execution_count": 7
        }
      ]
    },
    {
      "cell_type": "code",
      "source": [
        "file.info()"
      ],
      "metadata": {
        "colab": {
          "base_uri": "https://localhost:8080/"
        },
        "id": "dSE2fV17kLoN",
        "outputId": "bd3ee68f-9f2f-4743-f127-e2b66daaaef4"
      },
      "execution_count": 8,
      "outputs": [
        {
          "output_type": "stream",
          "name": "stdout",
          "text": [
            "<class 'pandas.core.frame.DataFrame'>\n",
            "RangeIndex: 17000 entries, 0 to 16999\n",
            "Data columns (total 9 columns):\n",
            " #   Column              Non-Null Count  Dtype  \n",
            "---  ------              --------------  -----  \n",
            " 0   longitude           17000 non-null  float64\n",
            " 1   latitude            17000 non-null  float64\n",
            " 2   housing_median_age  17000 non-null  float64\n",
            " 3   total_rooms         17000 non-null  float64\n",
            " 4   total_bedrooms      17000 non-null  float64\n",
            " 5   population          17000 non-null  float64\n",
            " 6   households          17000 non-null  float64\n",
            " 7   median_income       17000 non-null  float64\n",
            " 8   median_house_value  17000 non-null  float64\n",
            "dtypes: float64(9)\n",
            "memory usage: 1.2 MB\n"
          ]
        }
      ]
    },
    {
      "cell_type": "code",
      "source": [
        "file.describe()"
      ],
      "metadata": {
        "colab": {
          "base_uri": "https://localhost:8080/",
          "height": 364
        },
        "id": "418lQwjbkRdF",
        "outputId": "fe6f4090-8546-44fe-af7e-c507cde8aba4"
      },
      "execution_count": 9,
      "outputs": [
        {
          "output_type": "execute_result",
          "data": {
            "text/plain": [
              "          longitude      latitude  housing_median_age   total_rooms  \\\n",
              "count  17000.000000  17000.000000        17000.000000  17000.000000   \n",
              "mean    -119.562108     35.625225           28.589353   2643.664412   \n",
              "std        2.005166      2.137340           12.586937   2179.947071   \n",
              "min     -124.350000     32.540000            1.000000      2.000000   \n",
              "25%     -121.790000     33.930000           18.000000   1462.000000   \n",
              "50%     -118.490000     34.250000           29.000000   2127.000000   \n",
              "75%     -118.000000     37.720000           37.000000   3151.250000   \n",
              "max     -114.310000     41.950000           52.000000  37937.000000   \n",
              "\n",
              "       total_bedrooms    population    households  median_income  \\\n",
              "count    17000.000000  17000.000000  17000.000000   17000.000000   \n",
              "mean       539.410824   1429.573941    501.221941       3.883578   \n",
              "std        421.499452   1147.852959    384.520841       1.908157   \n",
              "min          1.000000      3.000000      1.000000       0.499900   \n",
              "25%        297.000000    790.000000    282.000000       2.566375   \n",
              "50%        434.000000   1167.000000    409.000000       3.544600   \n",
              "75%        648.250000   1721.000000    605.250000       4.767000   \n",
              "max       6445.000000  35682.000000   6082.000000      15.000100   \n",
              "\n",
              "       median_house_value  \n",
              "count        17000.000000  \n",
              "mean        207300.912353  \n",
              "std         115983.764387  \n",
              "min          14999.000000  \n",
              "25%         119400.000000  \n",
              "50%         180400.000000  \n",
              "75%         265000.000000  \n",
              "max         500001.000000  "
            ],
            "text/html": [
              "\n",
              "\n",
              "  <div id=\"df-5493cfce-5740-4b70-ba2d-168726c67aef\">\n",
              "    <div class=\"colab-df-container\">\n",
              "      <div>\n",
              "<style scoped>\n",
              "    .dataframe tbody tr th:only-of-type {\n",
              "        vertical-align: middle;\n",
              "    }\n",
              "\n",
              "    .dataframe tbody tr th {\n",
              "        vertical-align: top;\n",
              "    }\n",
              "\n",
              "    .dataframe thead th {\n",
              "        text-align: right;\n",
              "    }\n",
              "</style>\n",
              "<table border=\"1\" class=\"dataframe\">\n",
              "  <thead>\n",
              "    <tr style=\"text-align: right;\">\n",
              "      <th></th>\n",
              "      <th>longitude</th>\n",
              "      <th>latitude</th>\n",
              "      <th>housing_median_age</th>\n",
              "      <th>total_rooms</th>\n",
              "      <th>total_bedrooms</th>\n",
              "      <th>population</th>\n",
              "      <th>households</th>\n",
              "      <th>median_income</th>\n",
              "      <th>median_house_value</th>\n",
              "    </tr>\n",
              "  </thead>\n",
              "  <tbody>\n",
              "    <tr>\n",
              "      <th>count</th>\n",
              "      <td>17000.000000</td>\n",
              "      <td>17000.000000</td>\n",
              "      <td>17000.000000</td>\n",
              "      <td>17000.000000</td>\n",
              "      <td>17000.000000</td>\n",
              "      <td>17000.000000</td>\n",
              "      <td>17000.000000</td>\n",
              "      <td>17000.000000</td>\n",
              "      <td>17000.000000</td>\n",
              "    </tr>\n",
              "    <tr>\n",
              "      <th>mean</th>\n",
              "      <td>-119.562108</td>\n",
              "      <td>35.625225</td>\n",
              "      <td>28.589353</td>\n",
              "      <td>2643.664412</td>\n",
              "      <td>539.410824</td>\n",
              "      <td>1429.573941</td>\n",
              "      <td>501.221941</td>\n",
              "      <td>3.883578</td>\n",
              "      <td>207300.912353</td>\n",
              "    </tr>\n",
              "    <tr>\n",
              "      <th>std</th>\n",
              "      <td>2.005166</td>\n",
              "      <td>2.137340</td>\n",
              "      <td>12.586937</td>\n",
              "      <td>2179.947071</td>\n",
              "      <td>421.499452</td>\n",
              "      <td>1147.852959</td>\n",
              "      <td>384.520841</td>\n",
              "      <td>1.908157</td>\n",
              "      <td>115983.764387</td>\n",
              "    </tr>\n",
              "    <tr>\n",
              "      <th>min</th>\n",
              "      <td>-124.350000</td>\n",
              "      <td>32.540000</td>\n",
              "      <td>1.000000</td>\n",
              "      <td>2.000000</td>\n",
              "      <td>1.000000</td>\n",
              "      <td>3.000000</td>\n",
              "      <td>1.000000</td>\n",
              "      <td>0.499900</td>\n",
              "      <td>14999.000000</td>\n",
              "    </tr>\n",
              "    <tr>\n",
              "      <th>25%</th>\n",
              "      <td>-121.790000</td>\n",
              "      <td>33.930000</td>\n",
              "      <td>18.000000</td>\n",
              "      <td>1462.000000</td>\n",
              "      <td>297.000000</td>\n",
              "      <td>790.000000</td>\n",
              "      <td>282.000000</td>\n",
              "      <td>2.566375</td>\n",
              "      <td>119400.000000</td>\n",
              "    </tr>\n",
              "    <tr>\n",
              "      <th>50%</th>\n",
              "      <td>-118.490000</td>\n",
              "      <td>34.250000</td>\n",
              "      <td>29.000000</td>\n",
              "      <td>2127.000000</td>\n",
              "      <td>434.000000</td>\n",
              "      <td>1167.000000</td>\n",
              "      <td>409.000000</td>\n",
              "      <td>3.544600</td>\n",
              "      <td>180400.000000</td>\n",
              "    </tr>\n",
              "    <tr>\n",
              "      <th>75%</th>\n",
              "      <td>-118.000000</td>\n",
              "      <td>37.720000</td>\n",
              "      <td>37.000000</td>\n",
              "      <td>3151.250000</td>\n",
              "      <td>648.250000</td>\n",
              "      <td>1721.000000</td>\n",
              "      <td>605.250000</td>\n",
              "      <td>4.767000</td>\n",
              "      <td>265000.000000</td>\n",
              "    </tr>\n",
              "    <tr>\n",
              "      <th>max</th>\n",
              "      <td>-114.310000</td>\n",
              "      <td>41.950000</td>\n",
              "      <td>52.000000</td>\n",
              "      <td>37937.000000</td>\n",
              "      <td>6445.000000</td>\n",
              "      <td>35682.000000</td>\n",
              "      <td>6082.000000</td>\n",
              "      <td>15.000100</td>\n",
              "      <td>500001.000000</td>\n",
              "    </tr>\n",
              "  </tbody>\n",
              "</table>\n",
              "</div>\n",
              "      <button class=\"colab-df-convert\" onclick=\"convertToInteractive('df-5493cfce-5740-4b70-ba2d-168726c67aef')\"\n",
              "              title=\"Convert this dataframe to an interactive table.\"\n",
              "              style=\"display:none;\">\n",
              "\n",
              "  <svg xmlns=\"http://www.w3.org/2000/svg\" height=\"24px\"viewBox=\"0 0 24 24\"\n",
              "       width=\"24px\">\n",
              "    <path d=\"M0 0h24v24H0V0z\" fill=\"none\"/>\n",
              "    <path d=\"M18.56 5.44l.94 2.06.94-2.06 2.06-.94-2.06-.94-.94-2.06-.94 2.06-2.06.94zm-11 1L8.5 8.5l.94-2.06 2.06-.94-2.06-.94L8.5 2.5l-.94 2.06-2.06.94zm10 10l.94 2.06.94-2.06 2.06-.94-2.06-.94-.94-2.06-.94 2.06-2.06.94z\"/><path d=\"M17.41 7.96l-1.37-1.37c-.4-.4-.92-.59-1.43-.59-.52 0-1.04.2-1.43.59L10.3 9.45l-7.72 7.72c-.78.78-.78 2.05 0 2.83L4 21.41c.39.39.9.59 1.41.59.51 0 1.02-.2 1.41-.59l7.78-7.78 2.81-2.81c.8-.78.8-2.07 0-2.86zM5.41 20L4 18.59l7.72-7.72 1.47 1.35L5.41 20z\"/>\n",
              "  </svg>\n",
              "      </button>\n",
              "\n",
              "\n",
              "\n",
              "    <div id=\"df-978394cd-0e73-401f-badd-0d439f00f453\">\n",
              "      <button class=\"colab-df-quickchart\" onclick=\"quickchart('df-978394cd-0e73-401f-badd-0d439f00f453')\"\n",
              "              title=\"Suggest charts.\"\n",
              "              style=\"display:none;\">\n",
              "\n",
              "<svg xmlns=\"http://www.w3.org/2000/svg\" height=\"24px\"viewBox=\"0 0 24 24\"\n",
              "     width=\"24px\">\n",
              "    <g>\n",
              "        <path d=\"M19 3H5c-1.1 0-2 .9-2 2v14c0 1.1.9 2 2 2h14c1.1 0 2-.9 2-2V5c0-1.1-.9-2-2-2zM9 17H7v-7h2v7zm4 0h-2V7h2v10zm4 0h-2v-4h2v4z\"/>\n",
              "    </g>\n",
              "</svg>\n",
              "      </button>\n",
              "    </div>\n",
              "\n",
              "<style>\n",
              "  .colab-df-quickchart {\n",
              "    background-color: #E8F0FE;\n",
              "    border: none;\n",
              "    border-radius: 50%;\n",
              "    cursor: pointer;\n",
              "    display: none;\n",
              "    fill: #1967D2;\n",
              "    height: 32px;\n",
              "    padding: 0 0 0 0;\n",
              "    width: 32px;\n",
              "  }\n",
              "\n",
              "  .colab-df-quickchart:hover {\n",
              "    background-color: #E2EBFA;\n",
              "    box-shadow: 0px 1px 2px rgba(60, 64, 67, 0.3), 0px 1px 3px 1px rgba(60, 64, 67, 0.15);\n",
              "    fill: #174EA6;\n",
              "  }\n",
              "\n",
              "  [theme=dark] .colab-df-quickchart {\n",
              "    background-color: #3B4455;\n",
              "    fill: #D2E3FC;\n",
              "  }\n",
              "\n",
              "  [theme=dark] .colab-df-quickchart:hover {\n",
              "    background-color: #434B5C;\n",
              "    box-shadow: 0px 1px 3px 1px rgba(0, 0, 0, 0.15);\n",
              "    filter: drop-shadow(0px 1px 2px rgba(0, 0, 0, 0.3));\n",
              "    fill: #FFFFFF;\n",
              "  }\n",
              "</style>\n",
              "\n",
              "    <script>\n",
              "      async function quickchart(key) {\n",
              "        const containerElement = document.querySelector('#' + key);\n",
              "        const charts = await google.colab.kernel.invokeFunction(\n",
              "            'suggestCharts', [key], {});\n",
              "      }\n",
              "    </script>\n",
              "\n",
              "      <script>\n",
              "\n",
              "function displayQuickchartButton(domScope) {\n",
              "  let quickchartButtonEl =\n",
              "    domScope.querySelector('#df-978394cd-0e73-401f-badd-0d439f00f453 button.colab-df-quickchart');\n",
              "  quickchartButtonEl.style.display =\n",
              "    google.colab.kernel.accessAllowed ? 'block' : 'none';\n",
              "}\n",
              "\n",
              "        displayQuickchartButton(document);\n",
              "      </script>\n",
              "      <style>\n",
              "    .colab-df-container {\n",
              "      display:flex;\n",
              "      flex-wrap:wrap;\n",
              "      gap: 12px;\n",
              "    }\n",
              "\n",
              "    .colab-df-convert {\n",
              "      background-color: #E8F0FE;\n",
              "      border: none;\n",
              "      border-radius: 50%;\n",
              "      cursor: pointer;\n",
              "      display: none;\n",
              "      fill: #1967D2;\n",
              "      height: 32px;\n",
              "      padding: 0 0 0 0;\n",
              "      width: 32px;\n",
              "    }\n",
              "\n",
              "    .colab-df-convert:hover {\n",
              "      background-color: #E2EBFA;\n",
              "      box-shadow: 0px 1px 2px rgba(60, 64, 67, 0.3), 0px 1px 3px 1px rgba(60, 64, 67, 0.15);\n",
              "      fill: #174EA6;\n",
              "    }\n",
              "\n",
              "    [theme=dark] .colab-df-convert {\n",
              "      background-color: #3B4455;\n",
              "      fill: #D2E3FC;\n",
              "    }\n",
              "\n",
              "    [theme=dark] .colab-df-convert:hover {\n",
              "      background-color: #434B5C;\n",
              "      box-shadow: 0px 1px 3px 1px rgba(0, 0, 0, 0.15);\n",
              "      filter: drop-shadow(0px 1px 2px rgba(0, 0, 0, 0.3));\n",
              "      fill: #FFFFFF;\n",
              "    }\n",
              "  </style>\n",
              "\n",
              "      <script>\n",
              "        const buttonEl =\n",
              "          document.querySelector('#df-5493cfce-5740-4b70-ba2d-168726c67aef button.colab-df-convert');\n",
              "        buttonEl.style.display =\n",
              "          google.colab.kernel.accessAllowed ? 'block' : 'none';\n",
              "\n",
              "        async function convertToInteractive(key) {\n",
              "          const element = document.querySelector('#df-5493cfce-5740-4b70-ba2d-168726c67aef');\n",
              "          const dataTable =\n",
              "            await google.colab.kernel.invokeFunction('convertToInteractive',\n",
              "                                                     [key], {});\n",
              "          if (!dataTable) return;\n",
              "\n",
              "          const docLinkHtml = 'Like what you see? Visit the ' +\n",
              "            '<a target=\"_blank\" href=https://colab.research.google.com/notebooks/data_table.ipynb>data table notebook</a>'\n",
              "            + ' to learn more about interactive tables.';\n",
              "          element.innerHTML = '';\n",
              "          dataTable['output_type'] = 'display_data';\n",
              "          await google.colab.output.renderOutput(dataTable, element);\n",
              "          const docLink = document.createElement('div');\n",
              "          docLink.innerHTML = docLinkHtml;\n",
              "          element.appendChild(docLink);\n",
              "        }\n",
              "      </script>\n",
              "    </div>\n",
              "  </div>\n"
            ]
          },
          "metadata": {},
          "execution_count": 9
        }
      ]
    },
    {
      "cell_type": "code",
      "source": [
        "file.isnull().sum().sum()"
      ],
      "metadata": {
        "colab": {
          "base_uri": "https://localhost:8080/"
        },
        "id": "PfJrdsVvmgyv",
        "outputId": "25e98744-bb9d-4fe0-d0e8-da87339e236e"
      },
      "execution_count": 25,
      "outputs": [
        {
          "output_type": "execute_result",
          "data": {
            "text/plain": [
              "0"
            ]
          },
          "metadata": {},
          "execution_count": 25
        }
      ]
    },
    {
      "cell_type": "markdown",
      "source": [
        "d. Split the data into X and y where X is a set\t\t\t\t\t10%\n",
        "\t   of predictors and y is the target.Median_income has been chosen as target."
      ],
      "metadata": {
        "id": "CwG_yprXnb68"
      }
    },
    {
      "cell_type": "code",
      "source": [
        "y = file.pop(\"median_income\")\n",
        "X = file"
      ],
      "metadata": {
        "id": "tlou-NoakTtl"
      },
      "execution_count": 10,
      "outputs": []
    },
    {
      "cell_type": "code",
      "source": [
        "from sklearn.preprocessing import StandardScaler"
      ],
      "metadata": {
        "id": "UM7_wqmskgM1"
      },
      "execution_count": 11,
      "outputs": []
    },
    {
      "cell_type": "markdown",
      "source": [
        "Part e: Standardise dataset using StandardScaler()"
      ],
      "metadata": {
        "id": "qPLrz4iikzCN"
      }
    },
    {
      "cell_type": "code",
      "source": [
        "ss = StandardScaler()\n",
        "ss.fit(X)"
      ],
      "metadata": {
        "colab": {
          "base_uri": "https://localhost:8080/",
          "height": 75
        },
        "id": "Cbj8TG7okvqd",
        "outputId": "4214383a-b168-4902-c33c-a72c65e753e1"
      },
      "execution_count": 12,
      "outputs": [
        {
          "output_type": "execute_result",
          "data": {
            "text/plain": [
              "StandardScaler()"
            ],
            "text/html": [
              "<style>#sk-container-id-1 {color: black;background-color: white;}#sk-container-id-1 pre{padding: 0;}#sk-container-id-1 div.sk-toggleable {background-color: white;}#sk-container-id-1 label.sk-toggleable__label {cursor: pointer;display: block;width: 100%;margin-bottom: 0;padding: 0.3em;box-sizing: border-box;text-align: center;}#sk-container-id-1 label.sk-toggleable__label-arrow:before {content: \"▸\";float: left;margin-right: 0.25em;color: #696969;}#sk-container-id-1 label.sk-toggleable__label-arrow:hover:before {color: black;}#sk-container-id-1 div.sk-estimator:hover label.sk-toggleable__label-arrow:before {color: black;}#sk-container-id-1 div.sk-toggleable__content {max-height: 0;max-width: 0;overflow: hidden;text-align: left;background-color: #f0f8ff;}#sk-container-id-1 div.sk-toggleable__content pre {margin: 0.2em;color: black;border-radius: 0.25em;background-color: #f0f8ff;}#sk-container-id-1 input.sk-toggleable__control:checked~div.sk-toggleable__content {max-height: 200px;max-width: 100%;overflow: auto;}#sk-container-id-1 input.sk-toggleable__control:checked~label.sk-toggleable__label-arrow:before {content: \"▾\";}#sk-container-id-1 div.sk-estimator input.sk-toggleable__control:checked~label.sk-toggleable__label {background-color: #d4ebff;}#sk-container-id-1 div.sk-label input.sk-toggleable__control:checked~label.sk-toggleable__label {background-color: #d4ebff;}#sk-container-id-1 input.sk-hidden--visually {border: 0;clip: rect(1px 1px 1px 1px);clip: rect(1px, 1px, 1px, 1px);height: 1px;margin: -1px;overflow: hidden;padding: 0;position: absolute;width: 1px;}#sk-container-id-1 div.sk-estimator {font-family: monospace;background-color: #f0f8ff;border: 1px dotted black;border-radius: 0.25em;box-sizing: border-box;margin-bottom: 0.5em;}#sk-container-id-1 div.sk-estimator:hover {background-color: #d4ebff;}#sk-container-id-1 div.sk-parallel-item::after {content: \"\";width: 100%;border-bottom: 1px solid gray;flex-grow: 1;}#sk-container-id-1 div.sk-label:hover label.sk-toggleable__label {background-color: #d4ebff;}#sk-container-id-1 div.sk-serial::before {content: \"\";position: absolute;border-left: 1px solid gray;box-sizing: border-box;top: 0;bottom: 0;left: 50%;z-index: 0;}#sk-container-id-1 div.sk-serial {display: flex;flex-direction: column;align-items: center;background-color: white;padding-right: 0.2em;padding-left: 0.2em;position: relative;}#sk-container-id-1 div.sk-item {position: relative;z-index: 1;}#sk-container-id-1 div.sk-parallel {display: flex;align-items: stretch;justify-content: center;background-color: white;position: relative;}#sk-container-id-1 div.sk-item::before, #sk-container-id-1 div.sk-parallel-item::before {content: \"\";position: absolute;border-left: 1px solid gray;box-sizing: border-box;top: 0;bottom: 0;left: 50%;z-index: -1;}#sk-container-id-1 div.sk-parallel-item {display: flex;flex-direction: column;z-index: 1;position: relative;background-color: white;}#sk-container-id-1 div.sk-parallel-item:first-child::after {align-self: flex-end;width: 50%;}#sk-container-id-1 div.sk-parallel-item:last-child::after {align-self: flex-start;width: 50%;}#sk-container-id-1 div.sk-parallel-item:only-child::after {width: 0;}#sk-container-id-1 div.sk-dashed-wrapped {border: 1px dashed gray;margin: 0 0.4em 0.5em 0.4em;box-sizing: border-box;padding-bottom: 0.4em;background-color: white;}#sk-container-id-1 div.sk-label label {font-family: monospace;font-weight: bold;display: inline-block;line-height: 1.2em;}#sk-container-id-1 div.sk-label-container {text-align: center;}#sk-container-id-1 div.sk-container {/* jupyter's `normalize.less` sets `[hidden] { display: none; }` but bootstrap.min.css set `[hidden] { display: none !important; }` so we also need the `!important` here to be able to override the default hidden behavior on the sphinx rendered scikit-learn.org. See: https://github.com/scikit-learn/scikit-learn/issues/21755 */display: inline-block !important;position: relative;}#sk-container-id-1 div.sk-text-repr-fallback {display: none;}</style><div id=\"sk-container-id-1\" class=\"sk-top-container\"><div class=\"sk-text-repr-fallback\"><pre>StandardScaler()</pre><b>In a Jupyter environment, please rerun this cell to show the HTML representation or trust the notebook. <br />On GitHub, the HTML representation is unable to render, please try loading this page with nbviewer.org.</b></div><div class=\"sk-container\" hidden><div class=\"sk-item\"><div class=\"sk-estimator sk-toggleable\"><input class=\"sk-toggleable__control sk-hidden--visually\" id=\"sk-estimator-id-1\" type=\"checkbox\" checked><label for=\"sk-estimator-id-1\" class=\"sk-toggleable__label sk-toggleable__label-arrow\">StandardScaler</label><div class=\"sk-toggleable__content\"><pre>StandardScaler()</pre></div></div></div></div></div>"
            ]
          },
          "metadata": {},
          "execution_count": 12
        }
      ]
    },
    {
      "cell_type": "code",
      "source": [
        "X = ss.transform(X)"
      ],
      "metadata": {
        "id": "Ta-KhfbalMSL"
      },
      "execution_count": 13,
      "outputs": []
    },
    {
      "cell_type": "markdown",
      "source": [
        "Part f: Split dataset into train/test dataset"
      ],
      "metadata": {
        "id": "BeJbAZTalXVC"
      }
    },
    {
      "cell_type": "code",
      "source": [
        "from sklearn.model_selection import train_test_split"
      ],
      "metadata": {
        "id": "pIiI8LitlV_b"
      },
      "execution_count": 14,
      "outputs": []
    },
    {
      "cell_type": "code",
      "source": [
        "X_train,X_test, y_train,y_test = train_test_split(X, y, test_size = 0.25)"
      ],
      "metadata": {
        "id": "88ZRADIwlhH6"
      },
      "execution_count": 15,
      "outputs": []
    },
    {
      "cell_type": "markdown",
      "source": [
        "Part g:Build a Neural Network model to make prediction of target"
      ],
      "metadata": {
        "id": "6xrHfNHJlpIC"
      }
    },
    {
      "cell_type": "code",
      "source": [
        "model = tf.keras.Sequential()"
      ],
      "metadata": {
        "id": "TyZV6evFlsSI"
      },
      "execution_count": 35,
      "outputs": []
    },
    {
      "cell_type": "code",
      "source": [
        "model.add(layers.Input( shape = (8,) ) )"
      ],
      "metadata": {
        "id": "ffXm0bjHl3a5"
      },
      "execution_count": 36,
      "outputs": []
    },
    {
      "cell_type": "code",
      "source": [
        "model.add(layers.Dense(100,activation='relu'))"
      ],
      "metadata": {
        "id": "8xcpnhgamLq3"
      },
      "execution_count": 37,
      "outputs": []
    },
    {
      "cell_type": "code",
      "source": [
        "model.add(layers.Dense(500,activation='relu'))"
      ],
      "metadata": {
        "id": "AK51SDiCmbee"
      },
      "execution_count": 38,
      "outputs": []
    },
    {
      "cell_type": "code",
      "source": [
        "model.add(layers.Dense(700,activation='selu'))"
      ],
      "metadata": {
        "id": "0SG8hSRfmuGW"
      },
      "execution_count": 39,
      "outputs": []
    },
    {
      "cell_type": "code",
      "source": [
        "model.add(layers.Dense(900,activation='selu'))"
      ],
      "metadata": {
        "id": "KyzaZkHnmw4O"
      },
      "execution_count": 40,
      "outputs": []
    },
    {
      "cell_type": "code",
      "source": [
        "model.add(layers.Dense(1,activation='relu'))"
      ],
      "metadata": {
        "id": "WMUU9UgkmzYu"
      },
      "execution_count": 41,
      "outputs": []
    },
    {
      "cell_type": "code",
      "source": [
        "model.summary()"
      ],
      "metadata": {
        "colab": {
          "base_uri": "https://localhost:8080/"
        },
        "id": "QSO5lQP5m6XW",
        "outputId": "d217f7c1-3aa0-4e70-f46e-9c9277ef0d44"
      },
      "execution_count": 42,
      "outputs": [
        {
          "output_type": "stream",
          "name": "stdout",
          "text": [
            "Model: \"sequential_1\"\n",
            "_________________________________________________________________\n",
            " Layer (type)                Output Shape              Param #   \n",
            "=================================================================\n",
            " dense_5 (Dense)             (None, 100)               900       \n",
            "                                                                 \n",
            " dense_6 (Dense)             (None, 500)               50500     \n",
            "                                                                 \n",
            " dense_7 (Dense)             (None, 700)               350700    \n",
            "                                                                 \n",
            " dense_8 (Dense)             (None, 900)               630900    \n",
            "                                                                 \n",
            " dense_9 (Dense)             (None, 1)                 901       \n",
            "                                                                 \n",
            "=================================================================\n",
            "Total params: 1,033,901\n",
            "Trainable params: 1,033,901\n",
            "Non-trainable params: 0\n",
            "_________________________________________________________________\n"
          ]
        }
      ]
    },
    {
      "cell_type": "code",
      "source": [
        "from tensorflow.keras.utils import plot_model"
      ],
      "metadata": {
        "id": "mOB06vmim8-2"
      },
      "execution_count": 43,
      "outputs": []
    },
    {
      "cell_type": "code",
      "source": [
        "plot_model(model, show_shapes=True)"
      ],
      "metadata": {
        "colab": {
          "base_uri": "https://localhost:8080/",
          "height": 644
        },
        "id": "d-bGeaYxnAh-",
        "outputId": "51137752-5173-419c-bde5-368b7b22717a"
      },
      "execution_count": 44,
      "outputs": [
        {
          "output_type": "execute_result",
          "data": {
            "image/png": "[encoded data removed]",
            "text/plain": [
              "<IPython.core.display.Image object>"
            ]
          },
          "metadata": {},
          "execution_count": 44
        }
      ]
    },
    {
      "cell_type": "code",
      "source": [
        "model.compile( loss = \"mae\")"
      ],
      "metadata": {
        "id": "sOYx55yOnDIt"
      },
      "execution_count": 45,
      "outputs": []
    },
    {
      "cell_type": "markdown",
      "source": [
        "h. fit the model"
      ],
      "metadata": {
        "id": "n_K1hOmApO8d"
      }
    },
    {
      "cell_type": "code",
      "source": [
        "model.fit(X_train,y_train, epochs = 200)"
      ],
      "metadata": {
        "colab": {
          "base_uri": "https://localhost:8080/"
        },
        "id": "J6L7ok2HnG7t",
        "outputId": "07cfae27-961e-4837-9261-a709ff361346"
      },
      "execution_count": 46,
      "outputs": [
        {
          "output_type": "stream",
          "name": "stdout",
          "text": [
            "Epoch 1/200\n",
            "399/399 [==============================] - 5s 12ms/step - loss: 3.8900\n",
            "Epoch 2/200\n",
            "399/399 [==============================] - 4s 10ms/step - loss: 3.8804\n",
            "Epoch 3/200\n",
            "399/399 [==============================] - 4s 10ms/step - loss: 3.8804\n",
            "Epoch 4/200\n",
            "399/399 [==============================] - 5s 13ms/step - loss: 3.8804\n",
            "Epoch 5/200\n",
            "399/399 [==============================] - 4s 10ms/step - loss: 3.8804\n",
            "Epoch 6/200\n",
            "399/399 [==============================] - 4s 10ms/step - loss: 3.8804\n",
            "Epoch 7/200\n",
            "399/399 [==============================] - 5s 12ms/step - loss: 3.8804\n",
            "Epoch 8/200\n",
            "399/399 [==============================] - 4s 10ms/step - loss: 3.8804\n",
            "Epoch 9/200\n",
            "399/399 [==============================] - 4s 10ms/step - loss: 3.8804\n",
            "Epoch 10/200\n",
            "399/399 [==============================] - 5s 13ms/step - loss: 3.8804\n",
            "Epoch 11/200\n",
            "399/399 [==============================] - 4s 10ms/step - loss: 3.8804\n",
            "Epoch 12/200\n",
            "399/399 [==============================] - 4s 11ms/step - loss: 3.8804\n",
            "Epoch 13/200\n",
            "399/399 [==============================] - 5s 12ms/step - loss: 3.8804\n",
            "Epoch 14/200\n",
            "399/399 [==============================] - 4s 10ms/step - loss: 3.8804\n",
            "Epoch 15/200\n",
            "399/399 [==============================] - 5s 12ms/step - loss: 3.8804\n",
            "Epoch 16/200\n",
            "399/399 [==============================] - 5s 11ms/step - loss: 3.8804\n",
            "Epoch 17/200\n",
            "399/399 [==============================] - 4s 10ms/step - loss: 3.8804\n",
            "Epoch 18/200\n",
            "399/399 [==============================] - 5s 12ms/step - loss: 3.8804\n",
            "Epoch 19/200\n",
            "399/399 [==============================] - 4s 11ms/step - loss: 3.8804\n",
            "Epoch 20/200\n",
            "399/399 [==============================] - 4s 10ms/step - loss: 3.8804\n",
            "Epoch 21/200\n",
            "399/399 [==============================] - 7s 17ms/step - loss: 3.8804\n",
            "Epoch 22/200\n",
            "399/399 [==============================] - 7s 18ms/step - loss: 3.8804\n",
            "Epoch 23/200\n",
            "399/399 [==============================] - 5s 13ms/step - loss: 3.8804\n",
            "Epoch 24/200\n",
            "399/399 [==============================] - 4s 10ms/step - loss: 3.8804\n",
            "Epoch 25/200\n",
            "399/399 [==============================] - 4s 10ms/step - loss: 3.8804\n",
            "Epoch 26/200\n",
            "399/399 [==============================] - 5s 13ms/step - loss: 3.8804\n",
            "Epoch 27/200\n",
            "399/399 [==============================] - 4s 10ms/step - loss: 3.8804\n",
            "Epoch 28/200\n",
            "399/399 [==============================] - 4s 10ms/step - loss: 3.8804\n",
            "Epoch 29/200\n",
            "399/399 [==============================] - 5s 13ms/step - loss: 3.8804\n",
            "Epoch 30/200\n",
            "399/399 [==============================] - 4s 11ms/step - loss: 3.8804\n",
            "Epoch 31/200\n",
            "399/399 [==============================] - 4s 11ms/step - loss: 3.8804\n",
            "Epoch 32/200\n",
            "399/399 [==============================] - 5s 12ms/step - loss: 3.8804\n",
            "Epoch 33/200\n",
            "399/399 [==============================] - 4s 10ms/step - loss: 3.8804\n",
            "Epoch 34/200\n",
            "399/399 [==============================] - 5s 11ms/step - loss: 3.8804\n",
            "Epoch 35/200\n",
            "399/399 [==============================] - 5s 12ms/step - loss: 3.8804\n",
            "Epoch 36/200\n",
            "399/399 [==============================] - 4s 10ms/step - loss: 3.8804\n",
            "Epoch 37/200\n",
            "399/399 [==============================] - 5s 12ms/step - loss: 3.8804\n",
            "Epoch 38/200\n",
            "399/399 [==============================] - 5s 11ms/step - loss: 3.8804\n",
            "Epoch 39/200\n",
            "399/399 [==============================] - 4s 10ms/step - loss: 3.8804\n",
            "Epoch 40/200\n",
            "399/399 [==============================] - 5s 13ms/step - loss: 3.8804\n",
            "Epoch 41/200\n",
            "399/399 [==============================] - 4s 11ms/step - loss: 3.8804\n",
            "Epoch 42/200\n",
            "399/399 [==============================] - 4s 10ms/step - loss: 3.8804\n",
            "Epoch 43/200\n",
            "399/399 [==============================] - 5s 13ms/step - loss: 3.8804\n",
            "Epoch 44/200\n",
            "399/399 [==============================] - 4s 10ms/step - loss: 3.8804\n",
            "Epoch 45/200\n",
            "399/399 [==============================] - 4s 10ms/step - loss: 3.8804\n",
            "Epoch 46/200\n",
            "399/399 [==============================] - 6s 14ms/step - loss: 3.8804\n",
            "Epoch 47/200\n",
            "399/399 [==============================] - 4s 10ms/step - loss: 3.8804\n",
            "Epoch 48/200\n",
            "399/399 [==============================] - 4s 10ms/step - loss: 3.8804\n",
            "Epoch 49/200\n",
            "399/399 [==============================] - 5s 13ms/step - loss: 3.8804\n",
            "Epoch 50/200\n",
            "399/399 [==============================] - 4s 10ms/step - loss: 3.8804\n",
            "Epoch 51/200\n",
            "399/399 [==============================] - 4s 11ms/step - loss: 3.8804\n",
            "Epoch 52/200\n",
            "399/399 [==============================] - 5s 12ms/step - loss: 3.8804\n",
            "Epoch 53/200\n",
            "399/399 [==============================] - 4s 11ms/step - loss: 3.8804\n",
            "Epoch 54/200\n",
            "399/399 [==============================] - 5s 12ms/step - loss: 3.8804\n",
            "Epoch 55/200\n",
            "399/399 [==============================] - 5s 12ms/step - loss: 3.8804\n",
            "Epoch 56/200\n",
            "399/399 [==============================] - 4s 10ms/step - loss: 3.8804\n",
            "Epoch 57/200\n",
            "399/399 [==============================] - 5s 12ms/step - loss: 3.8804\n",
            "Epoch 58/200\n",
            "399/399 [==============================] - 4s 11ms/step - loss: 3.8804\n",
            "Epoch 59/200\n",
            "399/399 [==============================] - 4s 11ms/step - loss: 3.8804\n",
            "Epoch 60/200\n",
            "399/399 [==============================] - 5s 13ms/step - loss: 3.8804\n",
            "Epoch 61/200\n",
            "399/399 [==============================] - 4s 10ms/step - loss: 3.8804\n",
            "Epoch 62/200\n",
            "399/399 [==============================] - 4s 11ms/step - loss: 3.8804\n",
            "Epoch 63/200\n",
            "399/399 [==============================] - 5s 13ms/step - loss: 3.8804\n",
            "Epoch 64/200\n",
            "399/399 [==============================] - 4s 11ms/step - loss: 3.8804\n",
            "Epoch 65/200\n",
            "399/399 [==============================] - 4s 10ms/step - loss: 3.8804\n",
            "Epoch 66/200\n",
            "399/399 [==============================] - 5s 13ms/step - loss: 3.8804\n",
            "Epoch 67/200\n",
            "399/399 [==============================] - 4s 10ms/step - loss: 3.8804\n",
            "Epoch 68/200\n",
            "399/399 [==============================] - 4s 11ms/step - loss: 3.8804\n",
            "Epoch 69/200\n",
            "399/399 [==============================] - 6s 15ms/step - loss: 3.8804\n",
            "Epoch 70/200\n",
            "399/399 [==============================] - 4s 10ms/step - loss: 3.8804\n",
            "Epoch 71/200\n",
            "399/399 [==============================] - 5s 11ms/step - loss: 3.8804\n",
            "Epoch 72/200\n",
            "399/399 [==============================] - 5s 12ms/step - loss: 3.8804\n",
            "Epoch 73/200\n",
            "399/399 [==============================] - 4s 10ms/step - loss: 3.8804\n",
            "Epoch 74/200\n",
            "399/399 [==============================] - 5s 12ms/step - loss: 3.8804\n",
            "Epoch 75/200\n",
            "399/399 [==============================] - 4s 11ms/step - loss: 3.8804\n",
            "Epoch 76/200\n",
            "399/399 [==============================] - 4s 10ms/step - loss: 3.8804\n",
            "Epoch 77/200\n",
            "399/399 [==============================] - 5s 13ms/step - loss: 3.8804\n",
            "Epoch 78/200\n",
            "399/399 [==============================] - 4s 11ms/step - loss: 3.8804\n",
            "Epoch 79/200\n",
            "399/399 [==============================] - 4s 10ms/step - loss: 3.8804\n",
            "Epoch 80/200\n",
            "399/399 [==============================] - 5s 13ms/step - loss: 3.8804\n",
            "Epoch 81/200\n",
            "399/399 [==============================] - 4s 11ms/step - loss: 3.8804\n",
            "Epoch 82/200\n",
            "399/399 [==============================] - 4s 10ms/step - loss: 3.8804\n",
            "Epoch 83/200\n",
            "399/399 [==============================] - 5s 13ms/step - loss: 3.8804\n",
            "Epoch 84/200\n",
            "399/399 [==============================] - 4s 11ms/step - loss: 3.8804\n",
            "Epoch 85/200\n",
            "399/399 [==============================] - 4s 11ms/step - loss: 3.8804\n",
            "Epoch 86/200\n",
            "399/399 [==============================] - 5s 13ms/step - loss: 3.8804\n",
            "Epoch 87/200\n",
            "399/399 [==============================] - 4s 10ms/step - loss: 3.8804\n",
            "Epoch 88/200\n",
            "399/399 [==============================] - 4s 11ms/step - loss: 3.8804\n",
            "Epoch 89/200\n",
            "399/399 [==============================] - 5s 12ms/step - loss: 3.8804\n",
            "Epoch 90/200\n",
            "399/399 [==============================] - 4s 10ms/step - loss: 3.8804\n",
            "Epoch 91/200\n",
            "399/399 [==============================] - 5s 12ms/step - loss: 3.8804\n",
            "Epoch 92/200\n",
            "399/399 [==============================] - 5s 11ms/step - loss: 3.8804\n",
            "Epoch 93/200\n",
            "399/399 [==============================] - 4s 11ms/step - loss: 3.8804\n",
            "Epoch 94/200\n",
            "399/399 [==============================] - 5s 13ms/step - loss: 3.8804\n",
            "Epoch 95/200\n",
            "399/399 [==============================] - 4s 11ms/step - loss: 3.8804\n",
            "Epoch 96/200\n",
            "399/399 [==============================] - 4s 11ms/step - loss: 3.8804\n",
            "Epoch 97/200\n",
            "399/399 [==============================] - 5s 13ms/step - loss: 3.8804\n",
            "Epoch 98/200\n",
            "399/399 [==============================] - 4s 11ms/step - loss: 3.8804\n",
            "Epoch 99/200\n",
            "399/399 [==============================] - 4s 10ms/step - loss: 3.8804\n",
            "Epoch 100/200\n",
            "399/399 [==============================] - 5s 13ms/step - loss: 3.8804\n",
            "Epoch 101/200\n",
            "399/399 [==============================] - 4s 11ms/step - loss: 3.8804\n",
            "Epoch 102/200\n",
            "399/399 [==============================] - 4s 11ms/step - loss: 3.8804\n",
            "Epoch 103/200\n",
            "399/399 [==============================] - 5s 13ms/step - loss: 3.8804\n",
            "Epoch 104/200\n",
            "399/399 [==============================] - 4s 10ms/step - loss: 3.8804\n",
            "Epoch 105/200\n",
            "399/399 [==============================] - 4s 10ms/step - loss: 3.8804\n",
            "Epoch 106/200\n",
            "399/399 [==============================] - 5s 13ms/step - loss: 3.8804\n",
            "Epoch 107/200\n",
            "399/399 [==============================] - 4s 10ms/step - loss: 3.8804\n",
            "Epoch 108/200\n",
            "399/399 [==============================] - 4s 11ms/step - loss: 3.8804\n",
            "Epoch 109/200\n",
            "399/399 [==============================] - 5s 12ms/step - loss: 3.8804\n",
            "Epoch 110/200\n",
            "399/399 [==============================] - 4s 10ms/step - loss: 3.8804\n",
            "Epoch 111/200\n",
            "399/399 [==============================] - 5s 12ms/step - loss: 3.8804\n",
            "Epoch 112/200\n",
            "399/399 [==============================] - 5s 12ms/step - loss: 3.8804\n",
            "Epoch 113/200\n",
            "399/399 [==============================] - 4s 11ms/step - loss: 3.8804\n",
            "Epoch 114/200\n",
            "399/399 [==============================] - 5s 13ms/step - loss: 3.8804\n",
            "Epoch 115/200\n",
            "399/399 [==============================] - 4s 11ms/step - loss: 3.8804\n",
            "Epoch 116/200\n",
            "399/399 [==============================] - 4s 11ms/step - loss: 3.8804\n",
            "Epoch 117/200\n",
            "399/399 [==============================] - 5s 13ms/step - loss: 3.8804\n",
            "Epoch 118/200\n",
            "399/399 [==============================] - 4s 11ms/step - loss: 3.8804\n",
            "Epoch 119/200\n",
            "399/399 [==============================] - 4s 10ms/step - loss: 3.8804\n",
            "Epoch 120/200\n",
            "399/399 [==============================] - 5s 13ms/step - loss: 3.8804\n",
            "Epoch 121/200\n",
            "399/399 [==============================] - 4s 10ms/step - loss: 3.8804\n",
            "Epoch 122/200\n",
            "399/399 [==============================] - 4s 10ms/step - loss: 3.8804\n",
            "Epoch 123/200\n",
            "399/399 [==============================] - 5s 13ms/step - loss: 3.8804\n",
            "Epoch 124/200\n",
            "399/399 [==============================] - 4s 10ms/step - loss: 3.8804\n",
            "Epoch 125/200\n",
            "399/399 [==============================] - 4s 10ms/step - loss: 3.8804\n",
            "Epoch 126/200\n",
            "399/399 [==============================] - 5s 13ms/step - loss: 3.8804\n",
            "Epoch 127/200\n",
            "399/399 [==============================] - 4s 10ms/step - loss: 3.8804\n",
            "Epoch 128/200\n",
            "399/399 [==============================] - 4s 10ms/step - loss: 3.8804\n",
            "Epoch 129/200\n",
            "399/399 [==============================] - 5s 13ms/step - loss: 3.8804\n",
            "Epoch 130/200\n",
            "399/399 [==============================] - 4s 10ms/step - loss: 3.8804\n",
            "Epoch 131/200\n",
            "399/399 [==============================] - 4s 11ms/step - loss: 3.8804\n",
            "Epoch 132/200\n",
            "399/399 [==============================] - 5s 12ms/step - loss: 3.8804\n",
            "Epoch 133/200\n",
            "399/399 [==============================] - 4s 10ms/step - loss: 3.8804\n",
            "Epoch 134/200\n",
            "399/399 [==============================] - 5s 12ms/step - loss: 3.8804\n",
            "Epoch 135/200\n",
            "399/399 [==============================] - 5s 12ms/step - loss: 3.8804\n",
            "Epoch 136/200\n",
            "399/399 [==============================] - 4s 10ms/step - loss: 3.8804\n",
            "Epoch 137/200\n",
            "399/399 [==============================] - 5s 12ms/step - loss: 3.8804\n",
            "Epoch 138/200\n",
            "399/399 [==============================] - 5s 11ms/step - loss: 3.8804\n",
            "Epoch 139/200\n",
            "399/399 [==============================] - 4s 10ms/step - loss: 3.8804\n",
            "Epoch 140/200\n",
            "399/399 [==============================] - 5s 12ms/step - loss: 3.8804\n",
            "Epoch 141/200\n",
            "399/399 [==============================] - 4s 11ms/step - loss: 3.8804\n",
            "Epoch 142/200\n",
            "399/399 [==============================] - 4s 10ms/step - loss: 3.8804\n",
            "Epoch 143/200\n",
            "399/399 [==============================] - 5s 13ms/step - loss: 3.8804\n",
            "Epoch 144/200\n",
            "399/399 [==============================] - 4s 10ms/step - loss: 3.8804\n",
            "Epoch 145/200\n",
            "399/399 [==============================] - 4s 10ms/step - loss: 3.8804\n",
            "Epoch 146/200\n",
            "399/399 [==============================] - 5s 13ms/step - loss: 3.8804\n",
            "Epoch 147/200\n",
            "399/399 [==============================] - 4s 10ms/step - loss: 3.8804\n",
            "Epoch 148/200\n",
            "399/399 [==============================] - 4s 10ms/step - loss: 3.8804\n",
            "Epoch 149/200\n",
            "399/399 [==============================] - 5s 13ms/step - loss: 3.8804\n",
            "Epoch 150/200\n",
            "399/399 [==============================] - 4s 10ms/step - loss: 3.8804\n",
            "Epoch 151/200\n",
            "399/399 [==============================] - 4s 11ms/step - loss: 3.8804\n",
            "Epoch 152/200\n",
            "399/399 [==============================] - 5s 13ms/step - loss: 3.8804\n",
            "Epoch 153/200\n",
            "399/399 [==============================] - 4s 10ms/step - loss: 3.8804\n",
            "Epoch 154/200\n",
            "399/399 [==============================] - 4s 11ms/step - loss: 3.8804\n",
            "Epoch 155/200\n",
            "399/399 [==============================] - 5s 13ms/step - loss: 3.8804\n",
            "Epoch 156/200\n",
            "399/399 [==============================] - 4s 10ms/step - loss: 3.8804\n",
            "Epoch 157/200\n",
            "399/399 [==============================] - 5s 11ms/step - loss: 3.8804\n",
            "Epoch 158/200\n",
            "399/399 [==============================] - 5s 12ms/step - loss: 3.8804\n",
            "Epoch 159/200\n",
            "399/399 [==============================] - 4s 10ms/step - loss: 3.8804\n",
            "Epoch 160/200\n",
            "399/399 [==============================] - 4s 11ms/step - loss: 3.8804\n",
            "Epoch 161/200\n",
            "399/399 [==============================] - 5s 12ms/step - loss: 3.8804\n",
            "Epoch 162/200\n",
            "399/399 [==============================] - 4s 10ms/step - loss: 3.8804\n",
            "Epoch 163/200\n",
            "399/399 [==============================] - 5s 12ms/step - loss: 3.8804\n",
            "Epoch 164/200\n",
            "399/399 [==============================] - 5s 12ms/step - loss: 3.8804\n",
            "Epoch 165/200\n",
            "399/399 [==============================] - 4s 10ms/step - loss: 3.8804\n",
            "Epoch 166/200\n",
            "399/399 [==============================] - 5s 13ms/step - loss: 3.8804\n",
            "Epoch 167/200\n",
            "399/399 [==============================] - 4s 11ms/step - loss: 3.8804\n",
            "Epoch 168/200\n",
            "399/399 [==============================] - 4s 11ms/step - loss: 3.8804\n",
            "Epoch 169/200\n",
            "399/399 [==============================] - 5s 13ms/step - loss: 3.8804\n",
            "Epoch 170/200\n",
            "399/399 [==============================] - 4s 10ms/step - loss: 3.8804\n",
            "Epoch 171/200\n",
            "399/399 [==============================] - 4s 11ms/step - loss: 3.8804\n",
            "Epoch 172/200\n",
            "399/399 [==============================] - 5s 13ms/step - loss: 3.8804\n",
            "Epoch 173/200\n",
            "399/399 [==============================] - 4s 10ms/step - loss: 3.8804\n",
            "Epoch 174/200\n",
            "399/399 [==============================] - 4s 10ms/step - loss: 3.8804\n",
            "Epoch 175/200\n",
            "399/399 [==============================] - 5s 13ms/step - loss: 3.8804\n",
            "Epoch 176/200\n",
            "399/399 [==============================] - 4s 11ms/step - loss: 3.8804\n",
            "Epoch 177/200\n",
            "399/399 [==============================] - 4s 11ms/step - loss: 3.8804\n",
            "Epoch 178/200\n",
            "399/399 [==============================] - 5s 13ms/step - loss: 3.8804\n",
            "Epoch 179/200\n",
            "399/399 [==============================] - 4s 11ms/step - loss: 3.8804\n",
            "Epoch 180/200\n",
            "399/399 [==============================] - 4s 11ms/step - loss: 3.8804\n",
            "Epoch 181/200\n",
            "399/399 [==============================] - 5s 12ms/step - loss: 3.8804\n",
            "Epoch 182/200\n",
            "399/399 [==============================] - 4s 10ms/step - loss: 3.8804\n",
            "Epoch 183/200\n",
            "399/399 [==============================] - 5s 12ms/step - loss: 3.8804\n",
            "Epoch 184/200\n",
            "399/399 [==============================] - 5s 12ms/step - loss: 3.8804\n",
            "Epoch 185/200\n",
            "399/399 [==============================] - 4s 10ms/step - loss: 3.8804\n",
            "Epoch 186/200\n",
            "399/399 [==============================] - 5s 12ms/step - loss: 3.8804\n",
            "Epoch 187/200\n",
            "399/399 [==============================] - 4s 11ms/step - loss: 3.8804\n",
            "Epoch 188/200\n",
            "399/399 [==============================] - 4s 10ms/step - loss: 3.8804\n",
            "Epoch 189/200\n",
            "399/399 [==============================] - 5s 13ms/step - loss: 3.8804\n",
            "Epoch 190/200\n",
            "399/399 [==============================] - 4s 11ms/step - loss: 3.8804\n",
            "Epoch 191/200\n",
            "399/399 [==============================] - 4s 11ms/step - loss: 3.8804\n",
            "Epoch 192/200\n",
            "399/399 [==============================] - 5s 13ms/step - loss: 3.8804\n",
            "Epoch 193/200\n",
            "399/399 [==============================] - 4s 11ms/step - loss: 3.8804\n",
            "Epoch 194/200\n",
            "399/399 [==============================] - 4s 11ms/step - loss: 3.8804\n",
            "Epoch 195/200\n",
            "399/399 [==============================] - 5s 13ms/step - loss: 3.8804\n",
            "Epoch 196/200\n",
            "399/399 [==============================] - 4s 11ms/step - loss: 3.8804\n",
            "Epoch 197/200\n",
            "399/399 [==============================] - 4s 11ms/step - loss: 3.8804\n",
            "Epoch 198/200\n",
            "399/399 [==============================] - 5s 13ms/step - loss: 3.8804\n",
            "Epoch 199/200\n",
            "399/399 [==============================] - 4s 10ms/step - loss: 3.8804\n",
            "Epoch 200/200\n",
            "399/399 [==============================] - 4s 11ms/step - loss: 3.8804\n"
          ]
        },
        {
          "output_type": "execute_result",
          "data": {
            "text/plain": [
              "<keras.callbacks.History at 0x7a077d586a10>"
            ]
          },
          "metadata": {},
          "execution_count": 46
        }
      ]
    },
    {
      "cell_type": "markdown",
      "source": [
        "i. Make predictions of test data using the model"
      ],
      "metadata": {
        "id": "QCT4HTUrpRKT"
      }
    },
    {
      "cell_type": "code",
      "source": [
        "pred = model.predict(X_test)"
      ],
      "metadata": {
        "colab": {
          "base_uri": "https://localhost:8080/"
        },
        "id": "RfUBt-G2nM-1",
        "outputId": "d8fdc28b-5bc4-4b45-ac97-7446f72218e3"
      },
      "execution_count": 52,
      "outputs": [
        {
          "output_type": "stream",
          "name": "stdout",
          "text": [
            "133/133 [==============================] - 0s 3ms/step\n"
          ]
        }
      ]
    },
    {
      "cell_type": "code",
      "source": [
        "pred = np.round(pred)"
      ],
      "metadata": {
        "id": "zU-gppPetQz2"
      },
      "execution_count": 53,
      "outputs": []
    },
    {
      "cell_type": "code",
      "source": [
        "pred = pred.flatten()"
      ],
      "metadata": {
        "id": "_0dpOsK6n0fk"
      },
      "execution_count": 54,
      "outputs": []
    },
    {
      "cell_type": "code",
      "source": [
        "(pred == y_test).sum()/len(y_test)"
      ],
      "metadata": {
        "colab": {
          "base_uri": "https://localhost:8080/"
        },
        "id": "hC2P7I-kn388",
        "outputId": "2018a4b0-b442-44be-a95e-494327d63014"
      },
      "execution_count": 55,
      "outputs": [
        {
          "output_type": "execute_result",
          "data": {
            "text/plain": [
              "0.0"
            ]
          },
          "metadata": {},
          "execution_count": 55
        }
      ]
    },
    {
      "cell_type": "code",
      "source": [
        "model.evaluate(X_test,y_test)"
      ],
      "metadata": {
        "colab": {
          "base_uri": "https://localhost:8080/"
        },
        "id": "Fh7pzqo5n9vW",
        "outputId": "d70a751c-af71-4aa3-def2-ce37497896bc"
      },
      "execution_count": 56,
      "outputs": [
        {
          "output_type": "stream",
          "name": "stdout",
          "text": [
            "133/133 [==============================] - 1s 3ms/step - loss: 3.8932\n"
          ]
        },
        {
          "output_type": "execute_result",
          "data": {
            "text/plain": [
              "3.8931801319122314"
            ]
          },
          "metadata": {},
          "execution_count": 56
        }
      ]
    }
  ]
}